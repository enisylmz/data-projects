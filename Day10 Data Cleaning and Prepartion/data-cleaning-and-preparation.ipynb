{
 "cells": [
  {
   "cell_type": "markdown",
   "id": "3ba72cfd-b2a5-43a8-a2fb-e7f2ff7ba8c7",
   "metadata": {},
   "source": [
    "## Data Cleaning and Preparation with Pandas\n",
    "\n",
    "  "
   ]
  },
  {
   "cell_type": "markdown",
   "id": "c9e636c1-eaa3-4529-a33d-12bd5d21772b",
   "metadata": {
    "jp-MarkdownHeadingCollapsed": true
   },
   "source": [
    "#### Drop, Fill, Interpole"
   ]
  },
  {
   "cell_type": "code",
   "execution_count": 27,
   "id": "5b389b47-ef25-4f87-bea8-c844e90cc844",
   "metadata": {},
   "outputs": [
    {
     "name": "stdout",
     "output_type": "stream",
     "text": [
      "Orginal DataFrame \n",
      "     Name   Age  Score\n",
      "0  Alice  25.0    NaN\n",
      "1   Enis  34.0   13.0\n",
      "2  Barış  45.0    NaN\n",
      "3  Memet   NaN   32.0\n",
      "4    NaN  56.0   45.0\n"
     ]
    }
   ],
   "source": [
    "import pandas as pd\n",
    "import numpy as np\n",
    "\n",
    "# Exercise for data cleaning\n",
    "\n",
    "data = { 'Name':['Alice', 'Enis', 'Barış', 'Memet', np.nan],\n",
    "         'Age': [25, 34, 45, np.nan, 56],\n",
    "         'Score': [np.nan, 13, np.nan, 32, 45]\n",
    "}\n",
    "df = pd.DataFrame(data)\n",
    "print('Orginal DataFrame \\n', df) # here my orginal DataFrame with missing or empty values\n",
    "\n",
    "\n"
   ]
  },
  {
   "cell_type": "code",
   "execution_count": 28,
   "id": "cc8ad2a8-c3e2-4f7b-9a2b-51d65786ad31",
   "metadata": {},
   "outputs": [
    {
     "name": "stdout",
     "output_type": "stream",
     "text": [
      "Interpolate Age \n",
      "     Name   Age  Score\n",
      "0  Alice  25.0    NaN\n",
      "1   Enis  34.0   13.0\n",
      "2  Barış  45.0    NaN\n",
      "3  Memet  50.5   32.0\n",
      "4    NaN  56.0   45.0\n"
     ]
    }
   ],
   "source": [
    "df['Age']=df['Age'].interpolate()  # Interpolate bos olan verilere mantıklı veriler koymak icin kullanılabilir\n",
    "print('Interpolate Age \\n', df)\n",
    "\n",
    "\n"
   ]
  },
  {
   "cell_type": "code",
   "execution_count": 29,
   "id": "c0a0ef77-456b-4db6-8d38-7f16d4dc66ee",
   "metadata": {},
   "outputs": [
    {
     "name": "stdout",
     "output_type": "stream",
     "text": [
      "After Dropna \n",
      "     Name   Age  Score\n",
      "1   Enis  34.0   13.0\n",
      "3  Memet  50.5   32.0\n"
     ]
    }
   ],
   "source": [
    "\n",
    "df = df.dropna()  # here i dropped the missing \n",
    "print('After Dropna \\n', df)"
   ]
  },
  {
   "cell_type": "markdown",
   "id": "6054e687-29a4-455d-ba0d-365541a4a6a4",
   "metadata": {
    "jp-MarkdownHeadingCollapsed": true
   },
   "source": [
    "#### Rename in pandas"
   ]
  },
  {
   "cell_type": "code",
   "execution_count": 35,
   "id": "a1156e2e-6a0c-4426-94d3-c4e0911dc2e7",
   "metadata": {},
   "outputs": [
    {
     "name": "stdout",
     "output_type": "stream",
     "text": [
      "  Student Name  Student Age  Exam Score\n",
      "1         Enis         34.0        13.0\n",
      "3        Memet         50.5        32.0\n"
     ]
    }
   ],
   "source": [
    "df= df.rename(columns= {'Name':'Student Name', 'Age':'Student Age' ,'Score':'Exam Score'}) # we changed the default column names with rename func.\n",
    "print(df)"
   ]
  },
  {
   "cell_type": "markdown",
   "id": "efa089e8-ef0e-4653-96fd-ef74ac86827d",
   "metadata": {},
   "source": [
    "#### Merge In pandas"
   ]
  },
  {
   "cell_type": "code",
   "execution_count": 42,
   "id": "0d48e9af-05a2-4505-a606-b9c254ef8e25",
   "metadata": {},
   "outputs": [
    {
     "name": "stdout",
     "output_type": "stream",
     "text": [
      "   ID  Age  Score\n",
      "0   1   34    100\n",
      "1   2   56    123\n",
      "2   3   23    443\n",
      "   ID  Age  Score\n",
      "0   1   34    100\n",
      "1   2   56    123\n",
      "2   3   23    443\n"
     ]
    }
   ],
   "source": [
    "newDf = pd.DataFrame(\n",
    "    {\n",
    "        'ID': [1, 2, 3],\n",
    "        'Age': [34,56,23]\n",
    "    }\n",
    ")\n",
    "newDfTwo = pd.DataFrame(\n",
    "    {\n",
    "        'ID': [1, 2, 3],\n",
    "        'Score': [100, 123, 443]\n",
    "    }\n",
    ")\n",
    "merged = pd.merge(newDf, newDfTwo, how='inner', on='ID') #merge: In pandas, it combines two DataFrames into one table by matching rows on common key column(s).\n",
    "mergedLeft = pd.merge(newDf, newDfTwo, how='right', on='ID')\n",
    "\n",
    "print(merged)\n",
    "print(mergedLeft)"
   ]
  },
  {
   "cell_type": "code",
   "execution_count": null,
   "id": "a85ac204-d298-4d06-8839-ec317e0cbdc9",
   "metadata": {},
   "outputs": [],
   "source": []
  }
 ],
 "metadata": {
  "kernelspec": {
   "display_name": "Python 3 (ipykernel)",
   "language": "python",
   "name": "python3"
  },
  "language_info": {
   "codemirror_mode": {
    "name": "ipython",
    "version": 3
   },
   "file_extension": ".py",
   "mimetype": "text/x-python",
   "name": "python",
   "nbconvert_exporter": "python",
   "pygments_lexer": "ipython3",
   "version": "3.12.10"
  }
 },
 "nbformat": 4,
 "nbformat_minor": 5
}
