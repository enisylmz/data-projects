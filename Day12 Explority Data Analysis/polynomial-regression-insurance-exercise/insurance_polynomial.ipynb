{
 "cells": [
  {
   "cell_type": "code",
   "execution_count": 1,
   "id": "edd1a7cb-b009-470b-a9a8-e508fd79e913",
   "metadata": {},
   "outputs": [
    {
     "ename": "ModuleNotFoundError",
     "evalue": "No module named 'sklearn'",
     "output_type": "error",
     "traceback": [
      "\u001b[31m---------------------------------------------------------------------------\u001b[39m",
      "\u001b[31mModuleNotFoundError\u001b[39m                       Traceback (most recent call last)",
      "\u001b[36mCell\u001b[39m\u001b[36m \u001b[39m\u001b[32mIn[1]\u001b[39m\u001b[32m, line 5\u001b[39m\n\u001b[32m      3\u001b[39m \u001b[38;5;28;01mimport\u001b[39;00m\u001b[38;5;250m \u001b[39m\u001b[34;01mnumpy\u001b[39;00m\u001b[38;5;250m \u001b[39m\u001b[38;5;28;01mas\u001b[39;00m\u001b[38;5;250m \u001b[39m\u001b[34;01mnp\u001b[39;00m\n\u001b[32m      4\u001b[39m \u001b[38;5;28;01mimport\u001b[39;00m\u001b[38;5;250m \u001b[39m\u001b[34;01mmatplotlib\u001b[39;00m\u001b[34;01m.\u001b[39;00m\u001b[34;01mpyplot\u001b[39;00m\u001b[38;5;250m \u001b[39m\u001b[38;5;28;01mas\u001b[39;00m\u001b[38;5;250m \u001b[39m\u001b[34;01mplt\u001b[39;00m\n\u001b[32m----> \u001b[39m\u001b[32m5\u001b[39m \u001b[38;5;28;01mfrom\u001b[39;00m\u001b[38;5;250m \u001b[39m\u001b[34;01msklearn\u001b[39;00m\u001b[34;01m.\u001b[39;00m\u001b[34;01mmodel_selection\u001b[39;00m\u001b[38;5;250m \u001b[39m\u001b[38;5;28;01mimport\u001b[39;00m train_test_split\n\u001b[32m      6\u001b[39m \u001b[38;5;28;01mfrom\u001b[39;00m\u001b[38;5;250m \u001b[39m\u001b[34;01msklearn\u001b[39;00m\u001b[34;01m.\u001b[39;00m\u001b[34;01mpreprocessing\u001b[39;00m\u001b[38;5;250m \u001b[39m\u001b[38;5;28;01mimport\u001b[39;00m StandardScaler, PolynomialFeatures\n\u001b[32m      7\u001b[39m \u001b[38;5;28;01mfrom\u001b[39;00m\u001b[38;5;250m \u001b[39m\u001b[34;01msklearn\u001b[39;00m\u001b[34;01m.\u001b[39;00m\u001b[34;01mlinear_model\u001b[39;00m\u001b[38;5;250m \u001b[39m\u001b[38;5;28;01mimport\u001b[39;00m LinearRegression\n",
      "\u001b[31mModuleNotFoundError\u001b[39m: No module named 'sklearn'"
     ]
    }
   ],
   "source": [
    "import pandas as pd\n",
    "import seaborn as sns\n",
    "import numpy as np\n",
    "import matplotlib.pyplot as plt\n",
    "from sklearn.model_selection import train_test_split\n",
    "from sklearn.preprocessing import StandardScaler, PolynomialFeatures\n",
    "from sklearn.linear_model import LinearRegression\n",
    "from sklearn.metrics import mean_absolute_error"
   ]
  },
  {
   "cell_type": "code",
   "execution_count": null,
   "id": "cea249e5-e14e-4737-bdc9-12f27bd92d48",
   "metadata": {},
   "outputs": [],
   "source": [
    "df = pd.read_csv(\"data/insurance.csv\")\n",
    "df.head()"
   ]
  },
  {
   "cell_type": "code",
   "execution_count": null,
   "id": "e3526c75-b03e-45db-b699-7304e3c3dc82",
   "metadata": {},
   "outputs": [],
   "source": [
    "print(\"Dataset Shape:\", df.shape)\n",
    "print(\"\\nColumn Info:\")\n",
    "print(df.info())\n",
    "print(\"\\nMissing Values:\")\n",
    "print(df.isnull().sum())\n",
    "print(\"\\nBasic Statistics:\")\n",
    "print(df.describe())"
   ]
  },
  {
   "cell_type": "code",
   "execution_count": null,
   "id": "a0075a89-9d03-4911-9f08-19f557595eca",
   "metadata": {},
   "outputs": [],
   "source": [
    "num_cols = df.select_dtypes(include=['number']).columns.tolist()\n",
    "cat_cols = df.select_dtypes(include=['object']).columns.tolist()\n",
    "\n",
    "print(\"Numeric columns:\", num_cols)\n",
    "print(\"Categorical columns:\", cat_cols)\n",
    "\n",
    "for col in cat_cols:\n",
    "    print(f\"\\n{col}: {df[col].unique()}\")\n",
    "    print(f\"Value counts:\\n{df[col].value_counts()}\")"
   ]
  },
  {
   "cell_type": "code",
   "execution_count": null,
   "id": "bd50010c-ed8b-4c05-b26d-74937b574952",
   "metadata": {},
   "outputs": [],
   "source": [
    "plt.figure(figsize=(15, 5))\n",
    "\n",
    "plt.subplot(1, 3, 1)\n",
    "plt.hist(df['charges'], bins=30, alpha=0.7, color='skyblue')\n",
    "plt.title('Distribution of Charges')\n",
    "plt.xlabel('Charges ($)')\n",
    "plt.ylabel('Frequency')\n",
    "\n",
    "plt.subplot(1, 3, 2)\n",
    "sns.boxplot(y=df['charges'], color='lightcoral')\n",
    "plt.title('Charges Box Plot')\n",
    "\n",
    "plt.subplot(1, 3, 3)\n",
    "plt.hist(np.log(df['charges']), bins=30, alpha=0.7, color='lightgreen')\n",
    "plt.title('Log Distribution of Charges')\n",
    "plt.xlabel('Log(Charges)')\n",
    "\n",
    "plt.tight_layout()\n",
    "plt.show()\n",
    "\n",
    "print(\"Charges Statistics:\")\n",
    "print(f\"Mean: ${df['charges'].mean():.2f}\")\n",
    "print(f\"Median: ${df['charges'].median():.2f}\")\n",
    "print(f\"Std: ${df['charges'].std():.2f}\")\n",
    "print(f\"Min: ${df['charges'].min():.2f}\")\n",
    "print(f\"Max: ${df['charges'].max():.2f}\")"
   ]
  },
  {
   "cell_type": "code",
   "execution_count": null,
   "id": "f2fb3a7a-2faa-4209-9f4d-a52cdc97d928",
   "metadata": {},
   "outputs": [],
   "source": []
  },
  {
   "cell_type": "code",
   "execution_count": null,
   "id": "0ccacdca-4360-41da-a2a7-3a292650f182",
   "metadata": {},
   "outputs": [],
   "source": [
    "fig, axes = plt.subplots(2, 2, figsize=(15, 10))\n",
    "\n",
    "# Sex vs Charges\n",
    "sns.boxplot(data=df, x='sex', y='charges', ax=axes[0,0])\n",
    "axes[0,0].set_title('Charges by Gender')\n",
    "\n",
    "# Smoker vs Charges\n",
    "sns.boxplot(data=df, x='smoker', y='charges', ax=axes[0,1])\n",
    "axes[0,1].set_title('Charges by Smoking Status')\n",
    "\n",
    "# Region vs Charges\n",
    "sns.boxplot(data=df, x='region', y='charges', ax=axes[1,0])\n",
    "axes[1,0].set_title('Charges by Region')\n",
    "axes[1,0].tick_params(axis='x', rotation=45)\n",
    "\n",
    "# Children vs Charges\n",
    "sns.boxplot(data=df, x='children', y='charges', ax=axes[1,1])\n",
    "axes[1,1].set_title('Charges by Number of Children')\n",
    "\n",
    "plt.tight_layout()\n",
    "plt.show()"
   ]
  },
  {
   "cell_type": "code",
   "execution_count": null,
   "id": "71d69c76-bb57-4315-a6d5-985428776d2d",
   "metadata": {},
   "outputs": [],
   "source": []
  },
  {
   "cell_type": "code",
   "execution_count": null,
   "id": "2dc6680c-5ac4-4975-b991-69fed62e73a5",
   "metadata": {},
   "outputs": [],
   "source": [
    "# Correlation matrix\n",
    "plt.figure(figsize=(5, 4))\n",
    "correlation_matrix = df[num_cols].corr()\n",
    "sns.heatmap(correlation_matrix, annot=True, cmap='coolwarm', center=0, fmt='.3f')\n",
    "plt.title('Correlation Matrix')\n",
    "plt.show()\n",
    "\n",
    "# Scatter plots\n",
    "fig, axes = plt.subplots(1, 3, figsize=(15, 5))\n",
    "\n",
    "# Age vs Charges\n",
    "sns.scatterplot(data=df, x='age', y='charges', hue='smoker', ax=axes[0])\n",
    "axes[0].set_title('Age vs Charges (by Smoking Status)')\n",
    "\n",
    "# BMI vs Charges\n",
    "sns.scatterplot(data=df, x='bmi', y='charges', hue='smoker', ax=axes[1])\n",
    "axes[1].set_title('BMI vs Charges (by Smoking Status)')\n",
    "\n",
    "# Age vs BMI\n",
    "sns.scatterplot(data=df, x='age', y='bmi', hue='smoker', ax=axes[2])\n",
    "axes[2].set_title('Age vs BMI (by Smoking Status)')\n",
    "\n",
    "plt.tight_layout()\n",
    "plt.show()"
   ]
  },
  {
   "cell_type": "code",
   "execution_count": null,
   "id": "b0d4cda8-fa3f-4d81-b713-ee5514f32a65",
   "metadata": {},
   "outputs": [],
   "source": []
  },
  {
   "cell_type": "code",
   "execution_count": null,
   "id": "841833b5-25a5-4e02-87d8-6fc5a146f32a",
   "metadata": {},
   "outputs": [],
   "source": [
    "df['age_group'] = pd.cut(df['age'], \n",
    "                        bins=[17, 30, 40, 50, 65], \n",
    "                        labels=['18-30', '31-40', '41-50', '51-64'])\n",
    "\n",
    "plt.figure(figsize=(18, 6))\n",
    "\n",
    "# 1. Box Plot - Age Groups\n",
    "plt.subplot(1, 3, 1)\n",
    "sns.boxplot(data=df, x='age_group', y='charges', hue='smoker', \n",
    "            palette='Set2')\n",
    "plt.title('Insurance Charges by Age Group\\n(Smoking Status Comparison)', \n",
    "          fontsize=12, pad=20)\n",
    "plt.xlabel('Age Group')\n",
    "plt.ylabel('Charges ($)')\n",
    "plt.legend(title='Smoker')\n",
    "\n",
    "# 2. Smooth Line - Overall Trend\n",
    "plt.subplot(1, 3, 2)\n",
    "sns.regplot(data=df, x='age', y='charges', scatter_kws={'alpha':0.3, 's':20}, \n",
    "            line_kws={'color':'red'})\n",
    "plt.title('Age vs Charges\\n(Overall Trend with Regression Line)', \n",
    "          fontsize=12, pad=20)\n",
    "plt.xlabel('Age')\n",
    "plt.ylabel('Charges ($)')\n",
    "plt.grid(True, alpha=0.3)\n",
    "\n",
    "# 3. Separated Lines for Smokers\n",
    "plt.subplot(1, 3, 3)\n",
    "for smoker_status in ['no', 'yes']:\n",
    "    subset = df[df['smoker'] == smoker_status]\n",
    "    age_avg = subset.groupby('age')['charges'].mean()\n",
    "    \n",
    "    label = 'Non-smoker' if smoker_status == 'no' else 'Smoker'\n",
    "    color = 'lightblue' if smoker_status == 'no' else 'salmon'\n",
    "    \n",
    "    plt.plot(age_avg.index, age_avg.values, marker='o', \n",
    "             linewidth=2, label=label, color=color, alpha=0.8, markersize=4)\n",
    "\n",
    "plt.title('Average Charges by Age\\n(Smoker vs Non-smoker)', \n",
    "          fontsize=12, pad=20)\n",
    "plt.xlabel('Age')\n",
    "plt.ylabel('Average Charges ($)')\n",
    "plt.legend()\n",
    "plt.grid(True, alpha=0.3)\n",
    "\n",
    "plt.tight_layout()\n",
    "plt.show()"
   ]
  },
  {
   "cell_type": "code",
   "execution_count": null,
   "id": "3b103e5c-c17a-40bc-ba97-6b1fa570c381",
   "metadata": {},
   "outputs": [],
   "source": []
  },
  {
   "cell_type": "code",
   "execution_count": null,
   "id": "6a89a9ab-ed08-420b-93ca-ef0b8b862673",
   "metadata": {},
   "outputs": [],
   "source": [
    "def bmi_category(bmi):\n",
    "    if bmi < 18.5:\n",
    "        return 'Underweight'\n",
    "    elif bmi < 25:\n",
    "        return 'Normal'\n",
    "    elif bmi < 30:\n",
    "        return 'Overweight'\n",
    "    else:\n",
    "        return 'Obese'\n",
    "\n",
    "df['bmi_category'] = df['bmi'].apply(bmi_category)\n",
    "\n",
    "plt.figure(figsize=(12, 5))\n",
    "\n",
    "plt.subplot(1, 2, 1)\n",
    "sns.countplot(data=df, x='bmi_category', hue='smoker')\n",
    "plt.title('Distribution of BMI Categories by Smoking Status')\n",
    "plt.xticks(rotation=45)\n",
    "\n",
    "plt.subplot(1, 2, 2)\n",
    "sns.boxplot(data=df, x='bmi_category', y='charges', hue='smoker')\n",
    "plt.title('Charges by BMI Category and Smoking Status')\n",
    "plt.xticks(rotation=45)\n",
    "\n",
    "plt.tight_layout()\n",
    "plt.show()"
   ]
  },
  {
   "cell_type": "code",
   "execution_count": null,
   "id": "6ad1c7b7-d271-4016-8b0d-8f49c9e1e960",
   "metadata": {},
   "outputs": [],
   "source": []
  },
  {
   "cell_type": "code",
   "execution_count": null,
   "id": "5ccc09b7-9fd1-45d3-9904-592ccbb88156",
   "metadata": {},
   "outputs": [],
   "source": [
    "print(\"=== SMOKING STATUS ANALYSIS ===\")\n",
    "smoking_stats = df.groupby('smoker')['charges'].agg(['mean', 'median', 'std', 'count'])\n",
    "print(smoking_stats)\n",
    "\n",
    "print(\"\\n=== GENDER ANALYSIS ===\")\n",
    "gender_stats = df.groupby('sex')['charges'].agg(['mean', 'median', 'std', 'count'])\n",
    "print(gender_stats)\n",
    "\n",
    "print(\"\\n=== REGION ANALYSIS ===\")\n",
    "region_stats = df.groupby('region')['charges'].agg(['mean', 'median', 'std', 'count'])\n",
    "print(region_stats)\n",
    "\n",
    "print(\"\\n=== CHILDREN ANALYSIS ===\")\n",
    "children_stats = df.groupby('children')['charges'].agg(['mean', 'median', 'std', 'count']).T\n",
    "print(children_stats)"
   ]
  },
  {
   "cell_type": "code",
   "execution_count": null,
   "id": "c9380f5b-4639-4bc9-be58-0627eb128b73",
   "metadata": {},
   "outputs": [],
   "source": []
  },
  {
   "cell_type": "code",
   "execution_count": null,
   "id": "b8695dfb-942c-4d4f-bb18-0eb1d9119d58",
   "metadata": {},
   "outputs": [],
   "source": [
    "plt.figure(figsize=(15, 5))\n",
    "\n",
    "plt.subplot(1, 3, 1)\n",
    "sns.boxplot(y=df['charges'])\n",
    "plt.title('Charges Outliers')\n",
    "\n",
    "plt.subplot(1, 3, 2)\n",
    "sns.boxplot(y=df['age'])\n",
    "plt.title('Age Distribution')\n",
    "\n",
    "plt.subplot(1, 3, 3)\n",
    "sns.boxplot(y=df['bmi'])\n",
    "plt.title('BMI Outliers')\n",
    "\n",
    "plt.tight_layout()\n",
    "plt.show()\n",
    "\n",
    "Q1 = df['charges'].quantile(0.25)\n",
    "Q3 = df['charges'].quantile(0.75)\n",
    "IQR = Q3 - Q1\n",
    "lower_bound = Q1 - 1.5 * IQR\n",
    "upper_bound = Q3 + 1.5 * IQR\n",
    "\n",
    "outliers = df[(df['charges'] < lower_bound) | (df['charges'] > upper_bound)]\n",
    "print(f\"Number of outliers in charges: {len(outliers)} ({len(outliers)/len(df)*100:.1f}%)\")"
   ]
  },
  {
   "cell_type": "code",
   "execution_count": null,
   "id": "51569823-8758-4d2c-9847-ae597bba240c",
   "metadata": {},
   "outputs": [],
   "source": []
  },
  {
   "cell_type": "code",
   "execution_count": null,
   "id": "bfa7afe1-5638-4de5-bb11-cfda4a745966",
   "metadata": {},
   "outputs": [],
   "source": [
    "# Genel özet dashboard\n",
    "fig, axes = plt.subplots(3, 3, figsize=(18, 15))\n",
    "\n",
    "# 1. Charges distribution\n",
    "sns.histplot(df['charges'], bins=30, ax=axes[0,0])\n",
    "axes[0,0].set_title('Charges Distribution')\n",
    "\n",
    "# 2. Smoking effect\n",
    "sns.boxplot(data=df, x='smoker', y='charges', ax=axes[0,1])\n",
    "axes[0,1].set_title('Smoking vs Charges')\n",
    "\n",
    "# 3. Age vs Charges\n",
    "sns.scatterplot(data=df, x='age', y='charges', hue='smoker', ax=axes[0,2])\n",
    "axes[0,2].set_title('Age vs Charges')\n",
    "\n",
    "# 4. BMI vs Charges\n",
    "sns.scatterplot(data=df, x='bmi', y='charges', hue='smoker', ax=axes[1,0])\n",
    "axes[1,0].set_title('BMI vs Charges')\n",
    "\n",
    "# 5. Gender distribution\n",
    "df['sex'].value_counts().plot(kind='pie', ax=axes[1,1], autopct='%1.1f%%')\n",
    "axes[1,1].set_title('Gender Distribution')\n",
    "\n",
    "# 6. Region distribution\n",
    "sns.countplot(data=df, x='region', ax=axes[1,2])\n",
    "axes[1,2].set_title('Region Distribution')\n",
    "axes[1,2].tick_params(axis='x', rotation=45)\n",
    "\n",
    "# 7. Children distribution\n",
    "sns.countplot(data=df, x='children', ax=axes[2,0])\n",
    "axes[2,0].set_title('Children Distribution')\n",
    "\n",
    "# 8. Smoker distribution\n",
    "df['smoker'].value_counts().plot(kind='pie', ax=axes[2,1], autopct='%1.1f%%')\n",
    "axes[2,1].set_title('Smoker Distribution')\n",
    "\n",
    "# 9. Correlation heatmap\n",
    "sns.heatmap(df[num_cols].corr(), annot=True, fmt='.2f', ax=axes[2,2], cbar=False)\n",
    "axes[2,2].set_title('Correlation Matrix')\n",
    "\n",
    "plt.tight_layout()\n",
    "plt.show()"
   ]
  },
  {
   "cell_type": "code",
   "execution_count": null,
   "id": "3d80248a-61c5-4b40-9a71-fb8490725038",
   "metadata": {},
   "outputs": [],
   "source": [
    "df['sex'] = df['sex'].replace({'female': 1, 'male': 2})\n",
    "df['smoker'] = df['smoker'].replace({'yes': 1, 'no': 2})\n",
    "df['region'] = df['region'].replace({'southwest': 1, 'southeast': 2, 'northwest': 3, 'northeast': 4})\n",
    "df.head()"
   ]
  },
  {
   "cell_type": "code",
   "execution_count": null,
   "id": "38e6602e-91f1-41de-998f-90f76f147cc0",
   "metadata": {},
   "outputs": [],
   "source": [
    "df.columns"
   ]
  },
  {
   "cell_type": "code",
   "execution_count": null,
   "id": "e439c18f-a364-42c5-aec4-cb5322306a52",
   "metadata": {},
   "outputs": [],
   "source": [
    "X = df[[\n",
    "    'age', 'sex', 'bmi', 'children', 'smoker', 'region',\n",
    "]]\n",
    "y = df['charges']\n",
    "\n",
    "X_train, X_test, y_train, y_test = train_test_split(X, y, test_size=0.25, random_state = 1)\n",
    "\n",
    "scaler = StandardScaler()\n",
    "X_train_scaler = scaler.fit_transform(X_train)\n",
    "X_test_scaler = scaler.transform(X_test)\n",
    "\n",
    "lin = LinearRegression()\n",
    "\n",
    "poly = PolynomialFeatures(degree=6)\n",
    "X_poly_train = poly.fit_transform(X_train_scaler)\n",
    "X_test_poly = poly.transform(X_test_scaler)\n",
    "poly.fit(X_poly_train, y_train)\n",
    "lin.fit(X_poly_train, y_train)"
   ]
  },
  {
   "cell_type": "code",
   "execution_count": null,
   "id": "2c72b851-9148-4ff7-89ea-a66f891b4268",
   "metadata": {},
   "outputs": [],
   "source": [
    "y_pred = lin.predict(X_test_poly)"
   ]
  },
  {
   "cell_type": "code",
   "execution_count": null,
   "id": "ddca1a38-dbc8-4b7d-af62-18348308307b",
   "metadata": {},
   "outputs": [],
   "source": [
    "mean_absolute_error(y_test, y_pred)"
   ]
  },
  {
   "cell_type": "code",
   "execution_count": null,
   "id": "47206b32-190e-4d04-b38c-861a74505672",
   "metadata": {},
   "outputs": [],
   "source": [
    "y_pred_train = lin.predict(X_poly_train)\n",
    "mean_absolute_error(y_train, y_pred_train)"
   ]
  },
  {
   "cell_type": "code",
   "execution_count": null,
   "id": "6a22e066-4918-4bed-be39-4a41537761dd",
   "metadata": {},
   "outputs": [],
   "source": [
    "poly = PolynomialFeatures(degree=3)\n",
    "X_poly_train = poly.fit_transform(X_train_scaler)\n",
    "X_test_poly = poly.transform(X_test_scaler)\n",
    "poly.fit(X_poly_train, y_train)\n",
    "lin = LinearRegression()\n",
    "lin.fit(X_poly_train, y_train)"
   ]
  },
  {
   "cell_type": "code",
   "execution_count": null,
   "id": "4b252eaa-52df-40d5-8bf2-e9211b33ba45",
   "metadata": {},
   "outputs": [],
   "source": [
    "y_pred = lin.predict(X_test_poly)\n",
    "mean_absolute_error(y_test, y_pred)"
   ]
  },
  {
   "cell_type": "code",
   "execution_count": null,
   "id": "e5b71a3d-ea39-4694-a64b-c91aebee3f52",
   "metadata": {},
   "outputs": [],
   "source": [
    "y_pred_train = lin.predict(X_poly_train)\n",
    "mean_absolute_error(y_train, y_pred_train)"
   ]
  },
  {
   "cell_type": "code",
   "execution_count": null,
   "id": "6e809616-4f90-4615-8cad-50c61f228b5c",
   "metadata": {},
   "outputs": [],
   "source": [
    "sns.scatterplot(x=X, y=y_pred)"
   ]
  },
  {
   "cell_type": "code",
   "execution_count": null,
   "id": "0425b772-c7b5-473f-af2b-687ecb694a60",
   "metadata": {},
   "outputs": [],
   "source": []
  }
 ],
 "metadata": {
  "kernelspec": {
   "display_name": "Python 3 (ipykernel)",
   "language": "python",
   "name": "python3"
  },
  "language_info": {
   "codemirror_mode": {
    "name": "ipython",
    "version": 3
   },
   "file_extension": ".py",
   "mimetype": "text/x-python",
   "name": "python",
   "nbconvert_exporter": "python",
   "pygments_lexer": "ipython3",
   "version": "3.12.10"
  }
 },
 "nbformat": 4,
 "nbformat_minor": 5
}
