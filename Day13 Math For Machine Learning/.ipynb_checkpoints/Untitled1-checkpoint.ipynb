{
 "cells": [
  {
   "cell_type": "code",
   "execution_count": 19,
   "id": "e9b5dd36-590f-46c6-b3ba-a71c1c4add92",
   "metadata": {},
   "outputs": [],
   "source": [
    "#Libraries\n",
    "import pandas as pd \n",
    "import numpy as np \n",
    "import matplotlib as plt\n",
    "import seaborn as sns"
   ]
  },
  {
   "cell_type": "code",
   "execution_count": 29,
   "id": "82d43b6c-2566-4a6d-9d86-32eff6a1d305",
   "metadata": {},
   "outputs": [
    {
     "data": {
      "text/html": [
       "<div>\n",
       "<style scoped>\n",
       "    .dataframe tbody tr th:only-of-type {\n",
       "        vertical-align: middle;\n",
       "    }\n",
       "\n",
       "    .dataframe tbody tr th {\n",
       "        vertical-align: top;\n",
       "    }\n",
       "\n",
       "    .dataframe thead th {\n",
       "        text-align: right;\n",
       "    }\n",
       "</style>\n",
       "<table border=\"1\" class=\"dataframe\">\n",
       "  <thead>\n",
       "    <tr style=\"text-align: right;\">\n",
       "      <th></th>\n",
       "      <th>order_id</th>\n",
       "      <th>customer_id</th>\n",
       "      <th>order_date</th>\n",
       "      <th>order_amount</th>\n",
       "      <th>platform</th>\n",
       "      <th>campaign_id</th>\n",
       "    </tr>\n",
       "  </thead>\n",
       "  <tbody>\n",
       "    <tr>\n",
       "      <th>0</th>\n",
       "      <td>1</td>\n",
       "      <td>1051</td>\n",
       "      <td>2024-02-03</td>\n",
       "      <td>201</td>\n",
       "      <td>mobile</td>\n",
       "      <td>CAMP1</td>\n",
       "    </tr>\n",
       "    <tr>\n",
       "      <th>1</th>\n",
       "      <td>2</td>\n",
       "      <td>1092</td>\n",
       "      <td>2024-01-08</td>\n",
       "      <td>611</td>\n",
       "      <td>website</td>\n",
       "      <td>NoCampaign</td>\n",
       "    </tr>\n",
       "    <tr>\n",
       "      <th>2</th>\n",
       "      <td>3</td>\n",
       "      <td>1014</td>\n",
       "      <td>2024-02-09</td>\n",
       "      <td>738</td>\n",
       "      <td>website</td>\n",
       "      <td>NoCampaign</td>\n",
       "    </tr>\n",
       "    <tr>\n",
       "      <th>3</th>\n",
       "      <td>4</td>\n",
       "      <td>1071</td>\n",
       "      <td>2024-03-23</td>\n",
       "      <td>996</td>\n",
       "      <td>mobile</td>\n",
       "      <td>CAMP1</td>\n",
       "    </tr>\n",
       "    <tr>\n",
       "      <th>4</th>\n",
       "      <td>5</td>\n",
       "      <td>1060</td>\n",
       "      <td>2024-02-11</td>\n",
       "      <td>657</td>\n",
       "      <td>mobile</td>\n",
       "      <td>CAMP2</td>\n",
       "    </tr>\n",
       "  </tbody>\n",
       "</table>\n",
       "</div>"
      ],
      "text/plain": [
       "   order_id  customer_id  order_date  order_amount platform campaign_id\n",
       "0         1         1051  2024-02-03           201   mobile       CAMP1\n",
       "1         2         1092  2024-01-08           611  website  NoCampaign\n",
       "2         3         1014  2024-02-09           738  website  NoCampaign\n",
       "3         4         1071  2024-03-23           996   mobile       CAMP1\n",
       "4         5         1060  2024-02-11           657   mobile       CAMP2"
      ]
     },
     "execution_count": 29,
     "metadata": {},
     "output_type": "execute_result"
    }
   ],
   "source": [
    "df = pd.read_csv('ecommerce_sales.csv')\n",
    "df.head()"
   ]
  },
  {
   "cell_type": "code",
   "execution_count": 21,
   "id": "ae98fccc-cff1-45c8-8e17-80b3a39f9bc0",
   "metadata": {},
   "outputs": [
    {
     "name": "stdout",
     "output_type": "stream",
     "text": [
      "<class 'pandas.core.frame.DataFrame'>\n",
      "RangeIndex: 1000 entries, 0 to 999\n",
      "Data columns (total 6 columns):\n",
      " #   Column        Non-Null Count  Dtype \n",
      "---  ------        --------------  ----- \n",
      " 0   order_id      1000 non-null   int64 \n",
      " 1   customer_id   1000 non-null   int64 \n",
      " 2   order_date    1000 non-null   object\n",
      " 3   order_amount  1000 non-null   int64 \n",
      " 4   platform      1000 non-null   object\n",
      " 5   campaign_id   1000 non-null   object\n",
      "dtypes: int64(3), object(3)\n",
      "memory usage: 47.0+ KB\n"
     ]
    }
   ],
   "source": [
    "df.info()"
   ]
  },
  {
   "cell_type": "code",
   "execution_count": 30,
   "id": "37c2bc68-d860-4bb0-b88d-0321d46b5424",
   "metadata": {},
   "outputs": [
    {
     "data": {
      "text/html": [
       "<div>\n",
       "<style scoped>\n",
       "    .dataframe tbody tr th:only-of-type {\n",
       "        vertical-align: middle;\n",
       "    }\n",
       "\n",
       "    .dataframe tbody tr th {\n",
       "        vertical-align: top;\n",
       "    }\n",
       "\n",
       "    .dataframe thead th {\n",
       "        text-align: right;\n",
       "    }\n",
       "</style>\n",
       "<table border=\"1\" class=\"dataframe\">\n",
       "  <thead>\n",
       "    <tr style=\"text-align: right;\">\n",
       "      <th></th>\n",
       "      <th>order_id</th>\n",
       "      <th>customer_id</th>\n",
       "      <th>order_amount</th>\n",
       "    </tr>\n",
       "  </thead>\n",
       "  <tbody>\n",
       "    <tr>\n",
       "      <th>count</th>\n",
       "      <td>1000.000000</td>\n",
       "      <td>1000.000000</td>\n",
       "      <td>1000.000000</td>\n",
       "    </tr>\n",
       "    <tr>\n",
       "      <th>mean</th>\n",
       "      <td>500.500000</td>\n",
       "      <td>1049.128000</td>\n",
       "      <td>522.465000</td>\n",
       "    </tr>\n",
       "    <tr>\n",
       "      <th>std</th>\n",
       "      <td>288.819436</td>\n",
       "      <td>29.573505</td>\n",
       "      <td>266.650725</td>\n",
       "    </tr>\n",
       "    <tr>\n",
       "      <th>min</th>\n",
       "      <td>1.000000</td>\n",
       "      <td>1000.000000</td>\n",
       "      <td>50.000000</td>\n",
       "    </tr>\n",
       "    <tr>\n",
       "      <th>25%</th>\n",
       "      <td>250.750000</td>\n",
       "      <td>1023.000000</td>\n",
       "      <td>294.500000</td>\n",
       "    </tr>\n",
       "    <tr>\n",
       "      <th>50%</th>\n",
       "      <td>500.500000</td>\n",
       "      <td>1050.000000</td>\n",
       "      <td>517.500000</td>\n",
       "    </tr>\n",
       "    <tr>\n",
       "      <th>75%</th>\n",
       "      <td>750.250000</td>\n",
       "      <td>1074.000000</td>\n",
       "      <td>738.250000</td>\n",
       "    </tr>\n",
       "    <tr>\n",
       "      <th>max</th>\n",
       "      <td>1000.000000</td>\n",
       "      <td>1099.000000</td>\n",
       "      <td>997.000000</td>\n",
       "    </tr>\n",
       "  </tbody>\n",
       "</table>\n",
       "</div>"
      ],
      "text/plain": [
       "          order_id  customer_id  order_amount\n",
       "count  1000.000000  1000.000000   1000.000000\n",
       "mean    500.500000  1049.128000    522.465000\n",
       "std     288.819436    29.573505    266.650725\n",
       "min       1.000000  1000.000000     50.000000\n",
       "25%     250.750000  1023.000000    294.500000\n",
       "50%     500.500000  1050.000000    517.500000\n",
       "75%     750.250000  1074.000000    738.250000\n",
       "max    1000.000000  1099.000000    997.000000"
      ]
     },
     "execution_count": 30,
     "metadata": {},
     "output_type": "execute_result"
    }
   ],
   "source": [
    "df.describe()"
   ]
  },
  {
   "cell_type": "code",
   "execution_count": null,
   "id": "fa69b734-a054-42ad-93ef-5c1d964e727a",
   "metadata": {},
   "outputs": [],
   "source": []
  },
  {
   "cell_type": "code",
   "execution_count": 22,
   "id": "b9a475e1-9a43-4046-8e8c-59f24b8b1bb1",
   "metadata": {},
   "outputs": [
    {
     "data": {
      "text/plain": [
       "order_id        0\n",
       "customer_id     0\n",
       "order_date      0\n",
       "order_amount    0\n",
       "platform        0\n",
       "campaign_id     0\n",
       "dtype: int64"
      ]
     },
     "execution_count": 22,
     "metadata": {},
     "output_type": "execute_result"
    }
   ],
   "source": [
    "df.isnull().sum()"
   ]
  },
  {
   "cell_type": "code",
   "execution_count": 23,
   "id": "d7dbebe3-01d6-487f-8df8-513d9cf97adc",
   "metadata": {},
   "outputs": [
    {
     "data": {
      "text/html": [
       "<div>\n",
       "<style scoped>\n",
       "    .dataframe tbody tr th:only-of-type {\n",
       "        vertical-align: middle;\n",
       "    }\n",
       "\n",
       "    .dataframe tbody tr th {\n",
       "        vertical-align: top;\n",
       "    }\n",
       "\n",
       "    .dataframe thead th {\n",
       "        text-align: right;\n",
       "    }\n",
       "</style>\n",
       "<table border=\"1\" class=\"dataframe\">\n",
       "  <thead>\n",
       "    <tr style=\"text-align: right;\">\n",
       "      <th></th>\n",
       "      <th>order_id</th>\n",
       "      <th>customer_id</th>\n",
       "      <th>order_date</th>\n",
       "      <th>order_amount</th>\n",
       "      <th>platform</th>\n",
       "      <th>campaign_id</th>\n",
       "    </tr>\n",
       "  </thead>\n",
       "  <tbody>\n",
       "    <tr>\n",
       "      <th>0</th>\n",
       "      <td>1</td>\n",
       "      <td>1051</td>\n",
       "      <td>2024-02-03</td>\n",
       "      <td>201</td>\n",
       "      <td>mobile</td>\n",
       "      <td>CAMP1</td>\n",
       "    </tr>\n",
       "    <tr>\n",
       "      <th>1</th>\n",
       "      <td>2</td>\n",
       "      <td>1092</td>\n",
       "      <td>2024-01-08</td>\n",
       "      <td>611</td>\n",
       "      <td>website</td>\n",
       "      <td>NoCampaign</td>\n",
       "    </tr>\n",
       "    <tr>\n",
       "      <th>2</th>\n",
       "      <td>3</td>\n",
       "      <td>1014</td>\n",
       "      <td>2024-02-09</td>\n",
       "      <td>738</td>\n",
       "      <td>website</td>\n",
       "      <td>NoCampaign</td>\n",
       "    </tr>\n",
       "    <tr>\n",
       "      <th>3</th>\n",
       "      <td>4</td>\n",
       "      <td>1071</td>\n",
       "      <td>2024-03-23</td>\n",
       "      <td>996</td>\n",
       "      <td>mobile</td>\n",
       "      <td>CAMP1</td>\n",
       "    </tr>\n",
       "    <tr>\n",
       "      <th>4</th>\n",
       "      <td>5</td>\n",
       "      <td>1060</td>\n",
       "      <td>2024-02-11</td>\n",
       "      <td>657</td>\n",
       "      <td>mobile</td>\n",
       "      <td>CAMP2</td>\n",
       "    </tr>\n",
       "  </tbody>\n",
       "</table>\n",
       "</div>"
      ],
      "text/plain": [
       "   order_id  customer_id  order_date  order_amount platform campaign_id\n",
       "0         1         1051  2024-02-03           201   mobile       CAMP1\n",
       "1         2         1092  2024-01-08           611  website  NoCampaign\n",
       "2         3         1014  2024-02-09           738  website  NoCampaign\n",
       "3         4         1071  2024-03-23           996   mobile       CAMP1\n",
       "4         5         1060  2024-02-11           657   mobile       CAMP2"
      ]
     },
     "execution_count": 23,
     "metadata": {},
     "output_type": "execute_result"
    }
   ],
   "source": [
    "df.head()"
   ]
  },
  {
   "cell_type": "code",
   "execution_count": 24,
   "id": "a12398ff-5005-4c00-a017-567d20aff815",
   "metadata": {},
   "outputs": [
    {
     "data": {
      "text/plain": [
       "0                   CAMP1\n",
       "1      WaitingforCampaign\n",
       "2      WaitingforCampaign\n",
       "3                   CAMP1\n",
       "4                   CAMP2\n",
       "              ...        \n",
       "995                 CAMP2\n",
       "996    WaitingforCampaign\n",
       "997    WaitingforCampaign\n",
       "998    WaitingforCampaign\n",
       "999                 CAMP2\n",
       "Name: campaign_id, Length: 1000, dtype: object"
      ]
     },
     "execution_count": 24,
     "metadata": {},
     "output_type": "execute_result"
    }
   ],
   "source": [
    "df['campaign_id']=df['campaign_id'].replace({'NoCampaign':'WaitingforCampaign'})\n",
    "df['campaign_id']"
   ]
  },
  {
   "cell_type": "code",
   "execution_count": 26,
   "id": "c8ded5d1-b42d-4e31-9c67-384d42b2bc7f",
   "metadata": {},
   "outputs": [
    {
     "data": {
      "text/html": [
       "<div>\n",
       "<style scoped>\n",
       "    .dataframe tbody tr th:only-of-type {\n",
       "        vertical-align: middle;\n",
       "    }\n",
       "\n",
       "    .dataframe tbody tr th {\n",
       "        vertical-align: top;\n",
       "    }\n",
       "\n",
       "    .dataframe thead th {\n",
       "        text-align: right;\n",
       "    }\n",
       "</style>\n",
       "<table border=\"1\" class=\"dataframe\">\n",
       "  <thead>\n",
       "    <tr style=\"text-align: right;\">\n",
       "      <th></th>\n",
       "      <th>order_id</th>\n",
       "      <th>customer_id</th>\n",
       "      <th>order_date</th>\n",
       "      <th>order_amount</th>\n",
       "      <th>platform</th>\n",
       "      <th>campaign_id</th>\n",
       "    </tr>\n",
       "  </thead>\n",
       "  <tbody>\n",
       "    <tr>\n",
       "      <th>0</th>\n",
       "      <td>1</td>\n",
       "      <td>1051</td>\n",
       "      <td>2024-02-03</td>\n",
       "      <td>201</td>\n",
       "      <td>mobile</td>\n",
       "      <td>CAMP1</td>\n",
       "    </tr>\n",
       "    <tr>\n",
       "      <th>1</th>\n",
       "      <td>2</td>\n",
       "      <td>1092</td>\n",
       "      <td>2024-01-08</td>\n",
       "      <td>611</td>\n",
       "      <td>website</td>\n",
       "      <td>WaitingforCampaign</td>\n",
       "    </tr>\n",
       "    <tr>\n",
       "      <th>2</th>\n",
       "      <td>3</td>\n",
       "      <td>1014</td>\n",
       "      <td>2024-02-09</td>\n",
       "      <td>738</td>\n",
       "      <td>website</td>\n",
       "      <td>WaitingforCampaign</td>\n",
       "    </tr>\n",
       "    <tr>\n",
       "      <th>3</th>\n",
       "      <td>4</td>\n",
       "      <td>1071</td>\n",
       "      <td>2024-03-23</td>\n",
       "      <td>996</td>\n",
       "      <td>mobile</td>\n",
       "      <td>CAMP1</td>\n",
       "    </tr>\n",
       "    <tr>\n",
       "      <th>4</th>\n",
       "      <td>5</td>\n",
       "      <td>1060</td>\n",
       "      <td>2024-02-11</td>\n",
       "      <td>657</td>\n",
       "      <td>mobile</td>\n",
       "      <td>CAMP2</td>\n",
       "    </tr>\n",
       "  </tbody>\n",
       "</table>\n",
       "</div>"
      ],
      "text/plain": [
       "   order_id  customer_id  order_date  order_amount platform  \\\n",
       "0         1         1051  2024-02-03           201   mobile   \n",
       "1         2         1092  2024-01-08           611  website   \n",
       "2         3         1014  2024-02-09           738  website   \n",
       "3         4         1071  2024-03-23           996   mobile   \n",
       "4         5         1060  2024-02-11           657   mobile   \n",
       "\n",
       "          campaign_id  \n",
       "0               CAMP1  \n",
       "1  WaitingforCampaign  \n",
       "2  WaitingforCampaign  \n",
       "3               CAMP1  \n",
       "4               CAMP2  "
      ]
     },
     "execution_count": 26,
     "metadata": {},
     "output_type": "execute_result"
    }
   ],
   "source": [
    "df.head()"
   ]
  },
  {
   "cell_type": "code",
   "execution_count": 31,
   "id": "b0d889d0-f3d6-448b-a14b-28953a9b143b",
   "metadata": {},
   "outputs": [
    {
     "data": {
      "text/plain": [
       "order_id        1000\n",
       "customer_id     1000\n",
       "order_date      1000\n",
       "order_amount    1000\n",
       "platform        1000\n",
       "campaign_id     1000\n",
       "dtype: int64"
      ]
     },
     "execution_count": 31,
     "metadata": {},
     "output_type": "execute_result"
    }
   ],
   "source": [
    "df.count()"
   ]
  },
  {
   "cell_type": "code",
   "execution_count": null,
   "id": "e031a93f-d2b0-440d-8442-8446a3af852c",
   "metadata": {},
   "outputs": [],
   "source": [
    "df[['order_date','customer_id']]"
   ]
  },
  {
   "cell_type": "code",
   "execution_count": null,
   "id": "d4e4c110-eb81-44c0-a342-ec8b40cd36bc",
   "metadata": {},
   "outputs": [],
   "source": []
  }
 ],
 "metadata": {
  "kernelspec": {
   "display_name": "Python 3 (ipykernel)",
   "language": "python",
   "name": "python3"
  },
  "language_info": {
   "codemirror_mode": {
    "name": "ipython",
    "version": 3
   },
   "file_extension": ".py",
   "mimetype": "text/x-python",
   "name": "python",
   "nbconvert_exporter": "python",
   "pygments_lexer": "ipython3",
   "version": "3.12.10"
  }
 },
 "nbformat": 4,
 "nbformat_minor": 5
}
