{
 "cells": [
  {
   "cell_type": "code",
   "execution_count": 6,
   "id": "b017b4ad-c1d5-4c03-bc5d-9e1e7257d5df",
   "metadata": {},
   "outputs": [
    {
     "data": {
      "text/plain": [
       "np.float64(-20.000000000000007)"
      ]
     },
     "execution_count": 6,
     "metadata": {},
     "output_type": "execute_result"
    }
   ],
   "source": [
    "import numpy as np\n",
    "arr = np.array([[2,3,4],[3,5,1],[3,3,1]])\n",
    "np.linalg.det(arr)"
   ]
  },
  {
   "cell_type": "code",
   "execution_count": 22,
   "id": "53e189be-7204-48d7-ae78-e3b6ebb6547a",
   "metadata": {},
   "outputs": [
    {
     "data": {
      "text/plain": [
       "array([[-0.59248915, -0.78827532,  0.67627896],\n",
       "       [-0.63953263,  0.26506951, -0.64248608],\n",
       "       [-0.48985164,  0.55530187,  0.36035871]])"
      ]
     },
     "execution_count": 22,
     "metadata": {},
     "output_type": "execute_result"
    }
   ],
   "source": [
    "eseigneVec,eigvalu = np.linalg.eig(arr)\n",
    "eigvalu"
   ]
  },
  {
   "cell_type": "code",
   "execution_count": 23,
   "id": "5c8800cc-c93f-4f46-b561-3978701b2e01",
   "metadata": {},
   "outputs": [
    {
     "data": {
      "text/plain": [
       "array([ 8.54527505, -1.82660211,  1.28132705])"
      ]
     },
     "execution_count": 23,
     "metadata": {},
     "output_type": "execute_result"
    }
   ],
   "source": [
    "eseigneVec"
   ]
  },
  {
   "cell_type": "code",
   "execution_count": 31,
   "id": "74760ec0-1cd3-49f8-83fd-cfc780b4ce85",
   "metadata": {},
   "outputs": [
    {
     "data": {
      "text/plain": [
       "array([[-0.56559294,  0.82223502, -0.06351538],\n",
       "       [-0.66335851, -0.49935704, -0.55731323],\n",
       "       [-0.4899593 , -0.27307896,  0.82786941]])"
      ]
     },
     "execution_count": 31,
     "metadata": {},
     "output_type": "execute_result"
    }
   ],
   "source": [
    "u,s,Vt = np.linalg.svd(arr)\n",
    "u"
   ]
  },
  {
   "cell_type": "code",
   "execution_count": 32,
   "id": "d82f77a8-b2a4-4401-907d-19e77bb3f578",
   "metadata": {},
   "outputs": [
    {
     "data": {
      "text/plain": [
       "array([8.64757825, 2.73986188, 0.84412512])"
      ]
     },
     "execution_count": 32,
     "metadata": {},
     "output_type": "execute_result"
    }
   ],
   "source": [
    "s"
   ]
  },
  {
   "cell_type": "code",
   "execution_count": 34,
   "id": "50e35ffc-31e7-4e65-a26b-9a20c3fb6622",
   "metadata": {},
   "outputs": [
    {
     "data": {
      "text/plain": [
       "array([[-0.53091619, -0.74974161, -0.39498799],\n",
       "       [-0.24557368, -0.30998534,  0.91847844],\n",
       "       [ 0.811062  , -0.58463373,  0.01954057]])"
      ]
     },
     "execution_count": 34,
     "metadata": {},
     "output_type": "execute_result"
    }
   ],
   "source": [
    "Vt"
   ]
  },
  {
   "cell_type": "code",
   "execution_count": 3,
   "id": "9bd4a390-97c7-446b-8802-a133fccb9747",
   "metadata": {},
   "outputs": [
    {
     "name": "stdout",
     "output_type": "stream",
     "text": [
      "2*x 2*y\n"
     ]
    }
   ],
   "source": [
    "## Calculus derivative\n",
    "import sympy as sp\n",
    "x,y = sp.symbols('x y')\n",
    "f = x**2 + y**2\n",
    "grad_x= sp.diff(f, x)\n",
    "grad_y = sp.diff(f, y)\n",
    "print(grad_x,grad_y)"
   ]
  },
  {
   "cell_type": "code",
   "execution_count": 5,
   "id": "5d38f54b-f68d-4179-a2d7-6be10967bc48",
   "metadata": {},
   "outputs": [
    {
     "data": {
      "text/plain": [
       "(21, x**3/3)"
      ]
     },
     "execution_count": 5,
     "metadata": {},
     "output_type": "execute_result"
    }
   ],
   "source": [
    "# INTEGRAL\n",
    "x = sp.Symbol('x')\n",
    "f = x**2\n",
    "definiteIntegral = sp.integrate(f,(x,1,4))\n",
    "indefinite_integral =  sp.integrate(f,x)\n",
    "definiteIntegral, indefinite_integral"
   ]
  }
 ],
 "metadata": {
  "kernelspec": {
   "display_name": "Python 3 (ipykernel)",
   "language": "python",
   "name": "python3"
  },
  "language_info": {
   "codemirror_mode": {
    "name": "ipython",
    "version": 3
   },
   "file_extension": ".py",
   "mimetype": "text/x-python",
   "name": "python",
   "nbconvert_exporter": "python",
   "pygments_lexer": "ipython3",
   "version": "3.12.10"
  }
 },
 "nbformat": 4,
 "nbformat_minor": 5
}
