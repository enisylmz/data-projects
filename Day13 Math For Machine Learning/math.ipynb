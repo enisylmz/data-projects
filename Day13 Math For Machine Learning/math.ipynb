{
 "cells": [
  {
   "cell_type": "code",
   "execution_count": 4,
   "id": "805da112-7925-4b20-8cdc-1dbe88ebf788",
   "metadata": {},
   "outputs": [],
   "source": [
    "import numpy as np"
   ]
  },
  {
   "cell_type": "code",
   "execution_count": 11,
   "id": "a679beb4-952d-482b-ae2f-aac037926b88",
   "metadata": {},
   "outputs": [
    {
     "name": "stdout",
     "output_type": "stream",
     "text": [
      "Addition:\n",
      " [[ 3  6  9]\n",
      " [ 6  9 15]\n",
      " [ 6  9 21]]\n"
     ]
    }
   ],
   "source": [
    "#vector\n",
    "v = np.array([1,2,3])\n",
    "\n",
    "# matrice\n",
    "A = np.array([[1,2,3], [2,3,5],[2,3,7]])\n",
    "B = 2 * A\n",
    "print(\"Addition:\\n\", A + B)\n"
   ]
  },
  {
   "cell_type": "code",
   "execution_count": 14,
   "id": "ddbaa54a-5628-4761-86e0-324e5b25c017",
   "metadata": {},
   "outputs": [
    {
     "data": {
      "text/plain": [
       "array([[ 22,  34,  68],\n",
       "       [ 36,  56, 112],\n",
       "       [ 44,  68, 140]])"
      ]
     },
     "execution_count": 14,
     "metadata": {},
     "output_type": "execute_result"
    }
   ],
   "source": [
    "# Matrix Multiplication\n",
    "dot_product = np.dot(A, B)\n",
    "dot_product"
   ]
  },
  {
   "cell_type": "code",
   "execution_count": 116,
   "id": "156affa9-0f80-4f67-b8c1-f1fe839ea36e",
   "metadata": {},
   "outputs": [
    {
     "data": {
      "text/plain": [
       "array([[1., 0., 0., 0., 0.],\n",
       "       [0., 1., 0., 0., 0.],\n",
       "       [0., 0., 1., 0., 0.],\n",
       "       [0., 0., 0., 1., 0.],\n",
       "       [0., 0., 0., 0., 1.]])"
      ]
     },
     "execution_count": 116,
     "metadata": {},
     "output_type": "execute_result"
    }
   ],
   "source": [
    "# Identity Matrix\n",
    "I = np.eye(5)\n",
    "I"
   ]
  },
  {
   "cell_type": "code",
   "execution_count": 117,
   "id": "13b81fbe-82dc-4c90-afc2-ea8fb8ba87ed",
   "metadata": {},
   "outputs": [
    {
     "data": {
      "text/plain": [
       "array([[0., 0., 0.],\n",
       "       [0., 0., 0.],\n",
       "       [0., 0., 0.],\n",
       "       [0., 0., 0.],\n",
       "       [0., 0., 0.]])"
      ]
     },
     "execution_count": 117,
     "metadata": {},
     "output_type": "execute_result"
    }
   ],
   "source": [
    "# Zero Matrix\n",
    "Z = np.zeros((5,3))\n",
    "Z"
   ]
  },
  {
   "cell_type": "code",
   "execution_count": 12,
   "id": "db01027c-4e2c-4532-b2be-4c6c2206d2fe",
   "metadata": {},
   "outputs": [
    {
     "data": {
      "text/plain": [
       "array([[1, 0, 0],\n",
       "       [0, 2, 0],\n",
       "       [0, 0, 3]])"
      ]
     },
     "execution_count": 12,
     "metadata": {},
     "output_type": "execute_result"
    }
   ],
   "source": [
    "# Diagonal Matrix\n",
    "D = np.diag([1,2,3])\n",
    "D"
   ]
  },
  {
   "cell_type": "code",
   "execution_count": 13,
   "id": "1b008329-c9dc-4503-8648-6fd7694f00a9",
   "metadata": {},
   "outputs": [
    {
     "data": {
      "text/plain": [
       "np.float64(-2.0)"
      ]
     },
     "execution_count": 13,
     "metadata": {},
     "output_type": "execute_result"
    }
   ],
   "source": [
    "# determinant of a matrix\n",
    "determinant = np.linalg.det(A)\n",
    "determinant"
   ]
  },
  {
   "cell_type": "code",
   "execution_count": 46,
   "id": "70e0f0ea-6206-4edc-82b1-e801cf0e161a",
   "metadata": {},
   "outputs": [
    {
     "name": "stdout",
     "output_type": "stream",
     "text": [
      "Inverse\n",
      " [[-3.   2.5 -0.5]\n",
      " [ 2.  -0.5 -0.5]\n",
      " [ 0.  -0.5  0.5]]\n",
      "A:\n",
      " [[1 2 3]\n",
      " [2 3 5]\n",
      " [2 3 7]]\n",
      "Inverse*A \n",
      " [[1. 0. 0.]\n",
      " [0. 1. 0.]\n",
      " [0. 0. 1.]]\n"
     ]
    }
   ],
   "source": [
    "# inverse of a matrix\n",
    "inverse = np.linalg.inv(A)\n",
    "print('Inverse\\n',inverse)\n",
    "print('A:\\n', A)\n",
    "print('Inverse*A \\n', np.dot(A, inverse))  "
   ]
  },
  {
   "cell_type": "code",
   "execution_count": 15,
   "id": "3d2fa8c3-5ce1-4ac3-a8b8-d6e591227100",
   "metadata": {},
   "outputs": [],
   "source": [
    "# if det(A)=0 A is singular, not invertible"
   ]
  },
  {
   "cell_type": "code",
   "execution_count": 16,
   "id": "5aa51af3-9c93-4a5b-aa55-e26785cc139e",
   "metadata": {},
   "outputs": [
    {
     "data": {
      "text/plain": [
       "array([[1., 0., 0.],\n",
       "       [0., 1., 0.],\n",
       "       [0., 0., 1.]])"
      ]
     },
     "execution_count": 16,
     "metadata": {},
     "output_type": "execute_result"
    }
   ],
   "source": [
    "np.dot(inverse, A)"
   ]
  },
  {
   "cell_type": "markdown",
   "id": "6f74b057-a0b4-4791-8eb1-e02be43e3bb9",
   "metadata": {},
   "source": [
    "### eigenvalues and eigenvectors\n",
    "\n",
    "If A.v=lamba.v\n",
    "\n",
    "**v** is an **eigenvector** and **lambda** is the **eigenvalue**\n",
    "\n",
    "#### geometric interpretation\n",
    "- Eigenvectors point in the direction where the matrix transformation stretches or compresses vectors\n",
    "- Eigenvalues indicate the factor of stretching or compression\n",
    "- det(A - lambda*I)=0"
   ]
  },
  {
   "cell_type": "code",
   "execution_count": 17,
   "id": "eedaa9fd-9696-4a74-bff4-2c91860ad359",
   "metadata": {},
   "outputs": [],
   "source": [
    "eigenvalues, eigenvectors = np.linalg.eig(A)"
   ]
  },
  {
   "cell_type": "markdown",
   "id": "951172d9-e951-4dd7-8770-3b9c8822560d",
   "metadata": {},
   "source": [
    "### Matrix Decomposition\n",
    "breaking a matrix into simpler components to analyze or solve problems\n",
    "\n",
    "#### Singular Value Decomposition (svd)\n",
    "**A=U.S.V^T**\n",
    "- **U**: Left singular vectors\n",
    "- **S**: Diagonal matrix of singular values (non-negative)\n",
    "- **V^T**: Right singular vectors"
   ]
  },
  {
   "cell_type": "code",
   "execution_count": 124,
   "id": "906cc8fe-e2a2-4b71-957c-54630da3592e",
   "metadata": {},
   "outputs": [
    {
     "name": "stdout",
     "output_type": "stream",
     "text": [
      "[[-0.34933571 -0.45862471 -0.81708502]\n",
      " [-0.57732763 -0.58148154  0.57321203]\n",
      " [-0.73800906  0.67196919 -0.06164445]]\n"
     ]
    }
   ],
   "source": [
    "U, S, Vt = np.linalg.svd(A)\n",
    "print(U)"
   ]
  },
  {
   "cell_type": "code",
   "execution_count": 125,
   "id": "e57cb325-574d-4e9b-b260-540d7c73bb77",
   "metadata": {},
   "outputs": [
    {
     "name": "stdout",
     "output_type": "stream",
     "text": [
      "[10.64313952  0.81911642  0.2294112 ]\n"
     ]
    }
   ],
   "source": [
    "print(S)"
   ]
  },
  {
   "cell_type": "code",
   "execution_count": 126,
   "id": "cc38cc62-23d7-4569-9a77-380e5969397f",
   "metadata": {},
   "outputs": [
    {
     "name": "stdout",
     "output_type": "stream",
     "text": [
      "[[-0.27999342 -0.43640145 -0.85507746]\n",
      " [-0.3389621  -0.78839402  0.51336104]\n",
      " [ 0.89816946 -0.43357657 -0.07282159]]\n"
     ]
    }
   ],
   "source": [
    "print(Vt)"
   ]
  },
  {
   "cell_type": "code",
   "execution_count": 127,
   "id": "97240f09-1924-4898-b56c-4d02a76d4f75",
   "metadata": {},
   "outputs": [
    {
     "data": {
      "text/plain": [
       "array([[1., 2., 3.],\n",
       "       [2., 3., 5.],\n",
       "       [2., 3., 7.]])"
      ]
     },
     "execution_count": 127,
     "metadata": {},
     "output_type": "execute_result"
    }
   ],
   "source": [
    "# Reconstruct\n",
    "Sigma = np.zeros((3,3))\n",
    "\n",
    "np.fill_diagonal(Sigma, S)\n",
    "#or\n",
    "diag = np.diag(S)\n",
    "\n",
    "reconstructed = U @ diag @ Vt\n",
    "reconstructed\n"
   ]
  },
  {
   "cell_type": "markdown",
   "id": "17354ad8-89a9-4b2d-879c-3d9545fefe23",
   "metadata": {},
   "source": [
    "### Derivatives"
   ]
  },
  {
   "cell_type": "code",
   "execution_count": 18,
   "id": "8449db48-6fea-4975-a541-1b3c7158bdc0",
   "metadata": {},
   "outputs": [],
   "source": [
    "import sympy as sp"
   ]
  },
  {
   "cell_type": "code",
   "execution_count": 129,
   "id": "ec5a44c5-5a5e-473d-b983-0dd691f59df5",
   "metadata": {},
   "outputs": [
    {
     "data": {
      "text/latex": [
       "$\\displaystyle 2 x$"
      ],
      "text/plain": [
       "2*x"
      ]
     },
     "execution_count": 129,
     "metadata": {},
     "output_type": "execute_result"
    }
   ],
   "source": [
    "x = sp.Symbol(\"x\")\n",
    "f = x**2\n",
    "\n",
    "derivative = sp.diff(f, x)\n",
    "derivative"
   ]
  },
  {
   "cell_type": "markdown",
   "id": "7689aa67-ca4d-4fd4-be7b-bc35f0a0a5c4",
   "metadata": {},
   "source": [
    "### Partial derivatives\n",
    "\n",
    "**Gradient:** Vector of all partial derivatives, indicating the direction of the steepest ascent"
   ]
  },
  {
   "cell_type": "code",
   "execution_count": 130,
   "id": "a89ae220-0d2e-4383-9bf7-b587ce1e2487",
   "metadata": {},
   "outputs": [
    {
     "name": "stdout",
     "output_type": "stream",
     "text": [
      "2*x\n",
      "2*y\n"
     ]
    }
   ],
   "source": [
    "x, y = sp.symbols(\"x y\")\n",
    "f = x**2 + y**2\n",
    "\n",
    "grad_x = sp.diff(f, x)\n",
    "grad_y = sp.diff(f, y)\n",
    "\n",
    "print(grad_x)\n",
    "print(grad_y)"
   ]
  },
  {
   "cell_type": "markdown",
   "id": "e72e66b7-6a05-4a69-8c4d-4f72333ff412",
   "metadata": {},
   "source": [
    "#### Gradient Deescent Optimization Alghorithm\n",
    "- Iterative optimization algorithm used to minimize a function\n",
    "- Updates parameters in the direction of the negative gradient to find the minimum\n",
    "\n",
    "##### Update Rule: theta = theta - alpha*gradf(theta)\n",
    "- theta: parameters of the model\n",
    "- alpha: Learning rate (step size)"
   ]
  },
  {
   "cell_type": "code",
   "execution_count": 131,
   "id": "c03f850c-0c90-4d35-807c-263691f952b0",
   "metadata": {},
   "outputs": [],
   "source": [
    "# gradient descent function\n",
    "def gradient_descent(X, y, theta, learning_rate, iteration):\n",
    "    m = len(y)\n",
    "    for _ in range(iteration):\n",
    "        predictions = np.dot(X, theta)\n",
    "        errors = predictions - y\n",
    "        gradients = (1/m) * np.dot(X.T, errors)\n",
    "        theta -= learning_rate * gradients\n",
    "    return theta"
   ]
  },
  {
   "cell_type": "code",
   "execution_count": 132,
   "id": "3c46ebec-c4f8-43a8-be07-fa0f06f3ad41",
   "metadata": {},
   "outputs": [
    {
     "data": {
      "text/plain": [
       "array([1.49999426, 0.50000253])"
      ]
     },
     "execution_count": 132,
     "metadata": {},
     "output_type": "execute_result"
    }
   ],
   "source": [
    "# Sample Data\n",
    "X = np.array([[1,1], [1,2], [1,3]])\n",
    "y = np.array([2,2.5,3])\n",
    "\n",
    "theta = np.array([0.1, 0.1])\n",
    "learning_rate = 0.1\n",
    "iteration = 1000\n",
    "\n",
    "# Performing Algorithm\n",
    "optimized_theta = gradient_descent(X, y, theta, learning_rate, iteration)\n",
    "optimized_theta"
   ]
  },
  {
   "cell_type": "markdown",
   "id": "f755606b-759b-49d0-a78c-1a4355aa59e1",
   "metadata": {},
   "source": [
    "### Integrals\n",
    "\n",
    "- Compute the area under a curve, represanting accumulation"
   ]
  },
  {
   "cell_type": "code",
   "execution_count": 156,
   "id": "ea6042c0-f9e2-42ae-9ff6-c2900bc14608",
   "metadata": {},
   "outputs": [
    {
     "data": {
      "text/latex": [
       "$\\displaystyle \\frac{8}{3}$"
      ],
      "text/plain": [
       "8/3"
      ]
     },
     "execution_count": 156,
     "metadata": {},
     "output_type": "execute_result"
    }
   ],
   "source": [
    "f = x**2\n",
    "definite_integral = sp.integrate(f, (x, 0, 2))\n",
    "definite_integral"
   ]
  },
  {
   "cell_type": "code",
   "execution_count": 157,
   "id": "186fb1a4-4839-44b3-85b7-16803a1ac5ae",
   "metadata": {},
   "outputs": [
    {
     "data": {
      "text/latex": [
       "$\\displaystyle \\frac{x^{3}}{3}$"
      ],
      "text/plain": [
       "x**3/3"
      ]
     },
     "execution_count": 157,
     "metadata": {},
     "output_type": "execute_result"
    }
   ],
   "source": [
    "indefinite_integral = sp.integrate(f, x)\n",
    "indefinite_integral"
   ]
  },
  {
   "cell_type": "markdown",
   "id": "e7fca5d0-c472-4f1c-842d-6c27af9ad167",
   "metadata": {},
   "source": [
    "### Optimization Concepts\n",
    "- Local Minima, Global Minima\n",
    "\n",
    "#### Convex Func\n",
    "- f(lambda*x_1 + (1-lambda)x_2) <= lambda*f(x_1) + (1 - lambda)f(x_2) for all lambda element of [0,1]\n",
    "- Ensures that any local minimum is also a global minumum\n",
    "\n",
    "#### Non-Convex Functions\n",
    "- Most neural network loss functions"
   ]
  },
  {
   "cell_type": "code",
   "execution_count": null,
   "id": "24008bfa-caea-423d-b8c4-f27d3676644a",
   "metadata": {},
   "outputs": [],
   "source": []
  },
  {
   "cell_type": "markdown",
   "id": "ae5a9feb-6f1e-4b34-9917-6a42c278b0a2",
   "metadata": {},
   "source": [
    "### Stochastic Gradient Descent (SGD) and Its Variants\n",
    "- It is a optimization algorithm that uses random subsets of the data to compute gradients and update parameters\n",
    "\n",
    "##### Why?\n",
    "- Faster convergence for large data sets compared to batch gradient descent\n",
    "\n",
    "##### Variants of SGD\n",
    "- Mini Batch SGD, updates parameters using small batches instead of single examples\n",
    "- Momentum, adds a fraction of the previous update to current update to accelerate the convergence\n",
    "- Adam Optimizer, combines momentum with adaptive learning rates for faster convergence"
   ]
  },
  {
   "cell_type": "code",
   "execution_count": 158,
   "id": "136271ce-6f2c-4763-b14c-fc1c91fb8631",
   "metadata": {},
   "outputs": [],
   "source": [
    "# SGD Implementation\n",
    "def stochastic_gradient_descent(X, y, theta, learning_rate, n_epocs):\n",
    "    m = len(y)\n",
    "    for epoch in range(n_epocs):\n",
    "        for i in range(m):\n",
    "            random_index = np.random.randint(m)\n",
    "            xi = X[random_index:random_index+1]\n",
    "            yi = y[random_index:random_index+1]\n",
    "            gradients = 2 * xi.T @ (xi @ theta - yi)\n",
    "            theta -= learning_rate * gradients\n",
    "\n",
    "    return theta"
   ]
  },
  {
   "cell_type": "code",
   "execution_count": 159,
   "id": "5cb77ece-8ec7-4354-8ff2-d356b3e2692a",
   "metadata": {},
   "outputs": [],
   "source": [
    "#Generate synthetic data\n",
    "np.random.seed(42)\n",
    "X = 2 * np.random.rand(100, 1)\n",
    "y = 4 + 3 * X + np.random.randn(100, 1)\n",
    "\n",
    "# Add bias to X\n",
    "X_b = np.c_[np.ones((100, 1)), X]\n",
    "\n",
    "# initialize parameters\n",
    "theta = np.random.randn(2, 1)\n",
    "learning_rate = 0.01\n",
    "n_epochs = 50"
   ]
  },
  {
   "cell_type": "code",
   "execution_count": 160,
   "id": "6eba6bfb-52ba-4be7-9df9-a608f24d648c",
   "metadata": {},
   "outputs": [
    {
     "data": {
      "text/plain": [
       "array([[4.16427183],\n",
       "       [2.69207144]])"
      ]
     },
     "execution_count": 160,
     "metadata": {},
     "output_type": "execute_result"
    }
   ],
   "source": [
    "# Performing SGD\n",
    "theta_opt = stochastic_gradient_descent(X_b, y, theta, learning_rate, n_epochs)\n",
    "theta_opt"
   ]
  },
  {
   "cell_type": "markdown",
   "id": "f9d43a35-a87b-47f2-b572-1365a638a374",
   "metadata": {},
   "source": [
    "### Probability Theory and Distributions\n",
    "#### Conditional Probability\n",
    "The Probability of an event A given B has occured. P(A|B)\n",
    "\n",
    "#### Bayes' Theorem\n",
    "**P(A|B)=P(B|A)P(A)/P(B)**\n",
    "- P(A): Prior Probability\n",
    "- P(B | A): Likelihood\n",
    "- P(B): Evidence"
   ]
  },
  {
   "cell_type": "code",
   "execution_count": 162,
   "id": "b5e716de-7785-4c13-b3f3-8c6cc516ff12",
   "metadata": {},
   "outputs": [],
   "source": [
    "def bayes_theorem(prior_probability, likelihood, evidence):\n",
    "    return (likelihood * prior_probability) / evidence"
   ]
  },
  {
   "cell_type": "markdown",
   "id": "8fffac43-7650-4349-be5a-0c1b2f2e11de",
   "metadata": {},
   "source": [
    "### Distributions"
   ]
  },
  {
   "cell_type": "code",
   "execution_count": 208,
   "id": "3b00deeb-bf98-4b2d-8bcc-fb9075e6a0df",
   "metadata": {},
   "outputs": [
    {
     "data": {
      "image/png": "[encoded data removed]",
      "text/plain": [
       "<Figure size 640x480 with 1 Axes>"
      ]
     },
     "metadata": {},
     "output_type": "display_data"
    }
   ],
   "source": [
    "### Gaussian Distribution (Normal Distribution)\n",
    "import numpy as np\n",
    "import matplotlib.pyplot as plt\n",
    "\n",
    "mu, sigma = 0, 1 # mu(mean) sigma(standart deviation)\n",
    "x= np.linspace(-4, 4, 100)\n",
    "y = (1 / (np.sqrt(2 * np.pi * sigma**2))) * np.exp(-0.5 * ((x - mu) / sigma)**2)\n",
    "\n",
    "plt.plot(x, y)\n",
    "plt.title(\"Gaussian Distribution\")\n",
    "plt.show()"
   ]
  },
  {
   "cell_type": "code",
   "execution_count": 174,
   "id": "94675162-cee7-4635-b79d-31ca91d420a0",
   "metadata": {},
   "outputs": [
    {
     "data": {
      "image/png": "[encoded data removed]",
      "text/plain": [
       "<Figure size 640x480 with 1 Axes>"
      ]
     },
     "metadata": {},
     "output_type": "display_data"
    }
   ],
   "source": [
    "# Bernoulli Distribution (binary experiment)\n",
    "p = 0.6\n",
    "plt.bar([0, 1], [1-p, p], )\n",
    "plt.title(\"Bernoulli Distribution\")\n",
    "plt.xticks([0, 1], labels=[\"0 (Failure)\", \"1 (Success)\"])\n",
    "plt.show()"
   ]
  },
  {
   "cell_type": "code",
   "execution_count": 176,
   "id": "e408112d-e9af-480f-99f3-288cea87f946",
   "metadata": {},
   "outputs": [
    {
     "data": {
      "image/png": "[encoded data removed]",
      "text/plain": [
       "<Figure size 640x480 with 1 Axes>"
      ]
     },
     "metadata": {},
     "output_type": "display_data"
    }
   ],
   "source": [
    "# Binomial Distribution (models the number of successes in n independent Bernoulli trials)\n",
    "# P(X=k) = Combination(n, k)*p^k*(1-p)^(n-k)\n",
    "\n",
    "from scipy.stats import binom\n",
    "\n",
    "n, p = 10, 0.5\n",
    "x = np.arange(0, n+1)\n",
    "y = binom.pmf(x, n, p)\n",
    "plt.bar(x, y)\n",
    "plt.title(\"Binomial Distribution\")\n",
    "plt.show()"
   ]
  },
  {
   "cell_type": "code",
   "execution_count": 191,
   "id": "a273c21d-514d-4fa8-ae4a-cfb8ecd25285",
   "metadata": {},
   "outputs": [
    {
     "data": {
      "image/png": "[encoded data removed]",
      "text/plain": [
       "<Figure size 640x480 with 1 Axes>"
      ]
     },
     "metadata": {},
     "output_type": "display_data"
    }
   ],
   "source": [
    "# Poisson Distribution (Models the number of events in a fixed interval of time or space)\n",
    "# P(X=k) = lambda * exp(-lambda)/k!\n",
    "from scipy.stats import poisson\n",
    "\n",
    "lam = 3\n",
    "x = np.arange(0, 10)\n",
    "y = poisson.pmf(x, lam)\n",
    "plt.bar(x, y)\n",
    "plt.title(\"Poisson Distribution\")\n",
    "plt.show()"
   ]
  },
  {
   "cell_type": "markdown",
   "id": "acae0c9c-0d00-441b-9fd6-21b2ecfcf3dd",
   "metadata": {},
   "source": [
    "### Applications in ML\n",
    "#### Gaussian Distribution\n",
    "- Used in Gaussian Naive Bayes and kernel density estimation\n",
    "#### Bernoulli Distribution\n",
    "- Models binary classification problems\n",
    "#### Binomial Distribution\n",
    "- Used in logistic reggression to model binary outcomes\n",
    "#### Poisson Distribution\n",
    "- Models Models count data"
   ]
  },
  {
   "cell_type": "markdown",
   "id": "4875e4c8-b87b-494b-a65c-7761691708d6",
   "metadata": {},
   "source": [
    "### Stat Fundementals\n",
    "#### Measures of Central Tendency and Dispersion\n",
    "##### Central Tendency\n",
    "- Mean: Average, np.mean(data)\n",
    "- Median: The middle value\n",
    "- Mode: The most frequency"
   ]
  },
  {
   "cell_type": "markdown",
   "id": "bb50dc76-8e12-4dba-8b70-d4264b62fe94",
   "metadata": {},
   "source": [
    "#### Dispersion\n",
    "- Variance: The average squared deviation from the mean, np.var(data)\n",
    "- Standart Deviation (std_dev): The square root of variance, indicating the spread of data, np.std(data)"
   ]
  },
  {
   "cell_type": "code",
   "execution_count": 205,
   "id": "8504995e-c445-40d4-89d4-b8abbf6ac690",
   "metadata": {},
   "outputs": [
    {
     "data": {
      "text/plain": [
       "21.333333333333332"
      ]
     },
     "execution_count": 205,
     "metadata": {},
     "output_type": "execute_result"
    }
   ],
   "source": [
    "data = [10,12,12,14,12,24]\n",
    "mean = sum(data) / len(data)\n",
    "\n",
    "variance = sum((x - mean)**2 for x in data) / len(data)\n",
    "variance"
   ]
  },
  {
   "cell_type": "code",
   "execution_count": 206,
   "id": "069e63e1-d251-43cf-be4f-f0869406811f",
   "metadata": {},
   "outputs": [
    {
     "data": {
      "text/plain": [
       "4.618802153517006"
      ]
     },
     "execution_count": 206,
     "metadata": {},
     "output_type": "execute_result"
    }
   ],
   "source": [
    "standart_deviation = variance ** 0.5\n",
    "standart_deviation"
   ]
  },
  {
   "cell_type": "markdown",
   "id": "1f1fbcb5-c355-43c9-b040-00413410a588",
   "metadata": {},
   "source": [
    "#### Hypothesis Testing\n",
    "Statistical method to determine whether a result is significant or occured by chance\n",
    "##### Steps\n",
    "- Formulate Hypothesis\n",
    "  - Null Hypothesis (h_0): assumes that no effect or difference is created.\n",
    "  - Alternative Hypothesis (h_a): assumes an effect or difference exists.\n",
    "- Calculate Test Statistic\n",
    "- Determine P-Value (Probability of observing data as extreme as the test statistic under null hypothesis)\n",
    "- Interpret Results: check if the probability is less than alpha, which is significance level. If less we reject the null hypothesis which means it has some significance."
   ]
  },
  {
   "cell_type": "markdown",
   "id": "212a45e9-a3dd-4d97-835a-8ee50ccddec0",
   "metadata": {},
   "source": [
    "#### Confidence Interval (CI) and Statistical Significance\n",
    "##### Confidence Interval\n",
    "Range of values within which the true population parameter is expected to lie\n",
    "- **CI = x \\pm z * s/sqrt(n)**\n",
    "  - x: Sample Mean\n",
    "  - z: Z-score\n",
    "  - s: standart deviation\n",
    "  - n: length of the data\n",
    "##### Statistical Significance\n",
    "A result is statistically significant if the value is less than the significance level which is alpha equal to 0.05."
   ]
  },
  {
   "cell_type": "code",
   "execution_count": 207,
   "id": "801e4bdb-a4e6-4dea-8c93-667aa96e1bde",
   "metadata": {},
   "outputs": [
    {
     "data": {
      "text/plain": [
       "(10.304188556998312, 17.695811443001688)"
      ]
     },
     "execution_count": 207,
     "metadata": {},
     "output_type": "execute_result"
    }
   ],
   "source": [
    "import scipy.stats as stats\n",
    "\n",
    "# 95% Confidence Interval\n",
    "sample_mean = mean\n",
    "z_score = 1.96\n",
    "ci = (sample_mean - z_score * (standart_deviation / len(data) ** 0.5), sample_mean + z_score * (standart_deviation / len(data) ** 0.5))\n",
    "ci"
   ]
  },
  {
   "cell_type": "code",
   "execution_count": null,
   "id": "81c2c1c4-1a53-4c02-92f3-730fd041b091",
   "metadata": {},
   "outputs": [],
   "source": [
    "#### T Test\n",
    "from scipy.stats import ttest_ind\n",
    "\n",
    "group_1 = [2.1, 2.5, 2.8, 3.0, 3.2]\n",
    "group_2 = [1.8, 2.0, 2.4, 2.7, 2.9]\n",
    "\n",
    "t_stat, p_value = ttest_ind(group_1, group_2)\n",
    "\n",
    "# Interpretation\n",
    "alpha = 0.05\n",
    "if p_value < alpha:\n",
    "    print(\"Reject the null hypothesis: significant difference\")\n",
    "else:\n",
    "    print(\"Failed to reject the null hypothesis: no significant difference\")"
   ]
  },
  {
   "cell_type": "code",
   "execution_count": null,
   "id": "f658256b-69ff-46a1-a70c-41b35eb9c801",
   "metadata": {},
   "outputs": [],
   "source": []
  }
 ],
 "metadata": {
  "kernelspec": {
   "display_name": "Python 3 (ipykernel)",
   "language": "python",
   "name": "python3"
  },
  "language_info": {
   "codemirror_mode": {
    "name": "ipython",
    "version": 3
   },
   "file_extension": ".py",
   "mimetype": "text/x-python",
   "name": "python",
   "nbconvert_exporter": "python",
   "pygments_lexer": "ipython3",
   "version": "3.12.10"
  }
 },
 "nbformat": 4,
 "nbformat_minor": 5
}
