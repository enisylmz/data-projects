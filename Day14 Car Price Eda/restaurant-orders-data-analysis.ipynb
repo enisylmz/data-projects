{
 "cells": [
  {
   "cell_type": "markdown",
   "metadata": {},
   "source": [
    "# 🍔 Restaurant Orders Data Analysis 🍕📊🔮\n"
   ]
  },
  {
   "cell_type": "markdown",
   "metadata": {},
   "source": [
    "<h2 style=\"\n",
    "    background-color:#cbddca; \n",
    "    color:#1e3a8a; \n",
    "    padding:15px 20px; \n",
    "    border-radius:8px; \n",
    "    font-family:sans-serif; \n",
    "    font-size:32px; \n",
    "    font-weight:bold;\n",
    "    text-align:center;\n",
    "    box-shadow: 2px 2px 8px rgba(0,0,0,0.2);\n",
    "\">\n",
    "📖 Introduction\n",
    "</h2>\n"
   ]
  },
  {
   "cell_type": "markdown",
   "metadata": {},
   "source": [
    "This notebook has been created to transform an ordinary restaurant order log into a compact decision support system that can guide daily operations and menu strategies. The dataset consists of individual order lines, including fields such as Order Number, Customer Name, Food Item, Category, Quantity, Price, Payment Method, and Order Time.\n",
    "\n",
    "Motivation and Questions\n",
    "\n",
    "Popular Items 📊 — Which dishes generate the highest quantity and revenue? How concentrated is the sales contribution (e.g., Pareto 80/20 rule)?\n",
    "\n",
    "Temporal Demand ⏰ — What are the demand patterns across times of day (breakfast/lunch/afternoon/snack/dinner/late night), days of the week, and months?\n",
    "\n",
    "Payment Behavior 💳 — Are cash, card, or online payments associated with higher ticket sizes?\n",
    "\n",
    "Basket Associations 🛍️ — Which menu items are frequently purchased together, and could these be bundled into combos?\n",
    "\n",
    "Customer Value 💎 — Who are my loyal and VIP customers? What is the distribution of spending and frequency?\n",
    "\n",
    "Profitability Outlook 📈 — By price band, which items are traffic drivers and which are margin drivers? Which products are underperforming?\n",
    "\n",
    "Customer Segmentation 👨‍👩‍👧‍👦 — Can I segment customers into actionable groups (e.g., one-time customers, frugal regulars, premium VIPs)?"
   ]
  },
  {
   "cell_type": "markdown",
   "metadata": {},
   "source": [
    "<h2 style=\"\n",
    "    background-color:#cbddca; \n",
    "    color:#1b3d20; \n",
    "    padding:15px 20px; \n",
    "    border-radius:8px; \n",
    "    font-family:sans-serif; \n",
    "    font-size:32px; \n",
    "    font-weight:bold;\n",
    "    text-align:center;\n",
    "    box-shadow: 2px 2px 8px rgba(0,0,0,0.2);\n",
    "\">\n",
    "📚 Import Libraries\n",
    "</h2>\n"
   ]
  },
  {
   "cell_type": "code",
   "execution_count": 2,
   "metadata": {},
   "outputs": [],
   "source": [
    "import pandas as pd\n",
    "import numpy as np\n",
    "import seaborn as sns\n",
    "import matplotlib.pyplot as plt\n",
    "from datetime import datetime\n",
    "# from wordcloud import WordCloud\n",
    "import os, sys, glob, warnings"
   ]
  },
  {
   "cell_type": "markdown",
   "metadata": {},
   "source": [
    "<h2 style=\"\n",
    "    background-color:#cbddca; \n",
    "    color:#1b3d20; \n",
    "    padding:15px 20px; \n",
    "    border-radius:8px; \n",
    "    font-family:sans-serif; \n",
    "    font-size:32px; \n",
    "    font-weight:bold;\n",
    "    text-align:center;\n",
    "    box-shadow: 2px 2px 8px rgba(0,0,0,0.2);\n",
    "\">\n",
    "📥 Data Loading\n",
    "</h2>\n"
   ]
  },
  {
   "cell_type": "code",
   "execution_count": null,
   "metadata": {},
   "outputs": [],
   "source": [
    "df = pd.read_csv(\"/kaggle/input/restaurant-orders/restaurant_orders.csv\")\n",
    "\n",
    "df.head()"
   ]
  },
  {
   "cell_type": "markdown",
   "metadata": {},
   "source": [
    "\n",
    "<h2 style=\"\n",
    "    background-color:#cbddca; \n",
    "    color:#1b3d20; \n",
    "    padding:15px 20px; \n",
    "    border-radius:8px; \n",
    "    font-family:sans-serif; \n",
    "    font-size:32px; \n",
    "    font-weight:bold;\n",
    "    text-align:center;\n",
    "    box-shadow: 2px 2px 8px rgba(0,0,0,0.2);\n",
    "\">\n",
    "📊 Restaurant Orders Dataset Column\n",
    "</h2>\n",
    "\n",
    "\n",
    "This dataset contains records where each row represents an **order**.  \n",
    "The columns describe the details of each order:  \n",
    "\n",
    "| 🏷️ Column Name     | 📖 Description |\n",
    "|--------------------|----------------|\n",
    "| **Order ID**       | A **unique identifier** for each order. |\n",
    "| **Customer Name**  | The name of the customer who placed the order. |\n",
    "| **Food Item**      | The food item ordered by the customer. |\n",
    "| **Category**       | The category of the food item (e.g., *Main*, *Dessert*). |\n",
    "| **Quantity**       | The number of items ordered. |\n",
    "| **Price**          | The **total price** of the order. |\n",
    "| **Payment Method** | The payment method used by the customer (e.g., *Cash*, *Credit Card*). |\n",
    "| **Order Time**     | The **date and time** when the order was placed. |\n",
    "\n"
   ]
  },
  {
   "cell_type": "code",
   "execution_count": null,
   "metadata": {},
   "outputs": [],
   "source": [
    "df.info()"
   ]
  },
  {
   "cell_type": "code",
   "execution_count": null,
   "metadata": {},
   "outputs": [],
   "source": [
    "df.describe().T"
   ]
  },
  {
   "cell_type": "markdown",
   "metadata": {},
   "source": [
    "<h2 style=\"\n",
    "    background-color:#cbddca; \n",
    "    color:#1b3d20; \n",
    "    padding:15px 20px; \n",
    "    border-radius:8px; \n",
    "    font-family:sans-serif; \n",
    "    font-size:32px; \n",
    "    font-weight:bold;\n",
    "    text-align:center;\n",
    "    box-shadow: 2px 2px 8px rgba(0,0,0,0.2);\n",
    "\">\n",
    "🖼️ Data Visualization\n",
    "</h2>\n"
   ]
  },
  {
   "cell_type": "markdown",
   "metadata": {},
   "source": [
    "<h2 style=\" color:#2a6040; padding:10px; border-radius:6px; font-family:sans-serif;\">\n",
    "1) Food Item\n",
    "</h2>"
   ]
  },
  {
   "cell_type": "code",
   "execution_count": null,
   "metadata": {},
   "outputs": [],
   "source": [
    "from wordcloud import WordCloud\n",
    "import matplotlib.pyplot as plt\n",
    "import random\n",
    "\n",
    "# Veri setinizden en çok satılan 10 ürünü alalım\n",
    "# Bu kısım zaten doğru\n",
    "top_items = df[\"Food Item\"].value_counts().head(10)\n",
    "\n",
    "# Kendi renk paletiniz\n",
    "colors = [\n",
    "    \"#eae5c9\",\n",
    "    \"#cbddca\",\n",
    "    \"#abd6ca\",\n",
    "    \"#8ccecb\",\n",
    "    \"#6ccc6b\",\n",
    "    \"#c0f291\",\n",
    "    \"#9bce7d\",\n",
    "    \"#75a969\",\n",
    "    \"#508554\",\n",
    "    \"#2a6040\"\n",
    "]\n",
    "\n",
    "# Random bir renkte kelimeleri çizecek özel renk fonksiyonu\n",
    "def random_color_func(word=None, font_size=None, position=None, orientation=None, font_path=None, random_state=None):\n",
    "    return random.choice(colors)\n",
    "\n",
    "# WordCloud'u bu özel renk fonksiyonu ile çiz\n",
    "wordcloud = WordCloud(width=800, height=400, background_color=\"white\", color_func=random_color_func).generate_from_frequencies(top_items)\n",
    "\n",
    "plt.figure(figsize=(10,6))\n",
    "plt.imshow(wordcloud, interpolation=\"bilinear\")\n",
    "plt.axis(\"off\")  \n",
    "plt.title(\"Top 10 Best-Selling Foods\", fontsize=16)\n",
    "plt.show()"
   ]
  },
  {
   "cell_type": "markdown",
   "metadata": {},
   "source": [
    "Pizza and Brownie stand out as the most popular items. Fries and Soup also show strong sales, while the other foods are sold in smaller amounts. This provides insights into which items should be highlighted on the menu."
   ]
  },
  {
   "cell_type": "markdown",
   "metadata": {},
   "source": [
    "<h2 style=\" color:#2a6040; padding:10px; border-radius:6px; font-family:sans-serif;\">\n",
    "2) Total Sales by Category\n",
    "</h2>"
   ]
  },
  {
   "cell_type": "code",
   "execution_count": null,
   "metadata": {},
   "outputs": [],
   "source": [
    "category=df[\"Category\"].value_counts()\n",
    "\n",
    "colors = [\n",
    " \n",
    "    \"#9bce7d\",\n",
    "    \"#75a969\",\n",
    "    \"#508554\",\n",
    "]\n",
    "\n",
    "plt.figure(figsize=(8,8))\n",
    "plt.pie(category,labels=category.index,colors=colors,autopct=\"%1.1f%%\")\n",
    "plt.title(\"Total Sales by Category\")\n",
    "plt.show()"
   ]
  },
  {
   "cell_type": "markdown",
   "metadata": {},
   "source": [
    "This pie chart shows the total sales by category. The sales are very evenly distributed among the three categories: Dessert (33.6%), Main (33.4%), and Starter (33.0%). The distribution is so close that no single category dominates the sales, indicating a balanced performance across the menu."
   ]
  },
  {
   "cell_type": "code",
   "execution_count": null,
   "metadata": {},
   "outputs": [],
   "source": [
    "df[\"Order Time\"] = pd.to_datetime(df[\"Order Time\"], errors=\"coerce\")\n",
    "df = df.dropna(subset=[\"Order Time\"]).copy()\n",
    "\n",
    "df[\"line_total\"] = df[\"Quantity\"] * df[\"Price\"]\n",
    "df[\"date\"] = df[\"Order Time\"].dt.date\n",
    "df[\"year\"] = df[\"Order Time\"].dt.year\n",
    "df[\"month\"] = df[\"Order Time\"].dt.month\n",
    "df[\"month_name\"] = df[\"Order Time\"].dt.strftime(\"%b\")\n",
    "df[\"weekday\"] = df[\"Order Time\"].dt.day_name()\n",
    "\n",
    "df[\"Order Time\"] = pd.to_datetime(df[\"Order Time\"], errors=\"coerce\")\n",
    "df = df.dropna(subset=[\"Order Time\"]).copy()\n",
    "\n",
    "df[\"order_date\"] = df[\"Order Time\"].dt.date\n",
    "df[\"hour\"] = df[\"Order Time\"].dt.floor(\"h\")\n",
    "\n",
    "def get_daypart(hour):\n",
    "    if 6 <= hour < 11:   return \"Breakfast\"\n",
    "    if 11 <= hour < 15:  return \"Lunch\"\n",
    "    if 15 <= hour < 18:  return \"Afternoon\"\n",
    "    if 18 <= hour < 22:  return \"Dinner\"\n",
    "    return \"Late Night\"\n",
    "\n",
    "df[\"daypart\"] = df[\"Order Time\"].dt.hour.apply(get_daypart)\n",
    "\n",
    "# Output directory\n",
    "OUTDIR = \"./output\"\n",
    "os.makedirs(OUTDIR, exist_ok=True)\n",
    "\n",
    "# Quick preview\n",
    "display(df.head())\n",
    "print(df.shape, \"rows, columns:\", list(df.columns))\n"
   ]
  },
  {
   "cell_type": "markdown",
   "metadata": {},
   "source": [
    "The provided Python code, using the pandas library, has processed a dataset to add several new columns derived from the existing 'Order Time' and 'Quantity' and 'Price' columns. The 'Order Time' column was first converted to a datetime object, and then used to create new columns for the date, year, month, month name, weekday, and hour. Additionally, a new column called line_total was calculated by multiplying the 'Quantity' and 'Price' columns. A custom function, get_daypart, was applied to the 'hour' to categorize each order into one of five dayparts: \"Breakfast,\" \"Lunch,\" \"Afternoon,\" \"Dinner,\" or \"Late Night,\" which was then stored in the new daypart column. This process enriches the dataset, making it more useful for analysis."
   ]
  },
  {
   "cell_type": "markdown",
   "metadata": {},
   "source": [
    "<h2 style=\" color:#2a6040; padding:10px; border-radius:6px; font-family:sans-serif;\">\n",
    "3) Daily Income\n",
    "</h2>"
   ]
  },
  {
   "cell_type": "code",
   "execution_count": null,
   "metadata": {},
   "outputs": [],
   "source": [
    "# Haftanın günlerini sıralı hale getirmek için kategori oluşturma\n",
    "weekday_order = [\"Monday\", \"Tuesday\", \"Wednesday\", \"Thursday\", \"Friday\", \"Saturday\", \"Sunday\"]\n",
    "daily_income = df.groupby(\"weekday\")[\"line_total\"].sum().reindex(weekday_order)\n",
    "\n",
    "# Sadece 7 renk seçimi\n",
    "colors = [\n",
    "    \"#8ccecb\", \n",
    "    \"#6ccc6b\",\n",
    "    \"#c0f291\", \n",
    "    \"#9bce7d\",\n",
    "    \"#75a969\",\n",
    "    \"#508554\",\n",
    "    \"#2a6040\"\n",
    "]\n",
    "\n",
    "# Grafiği oluşturma\n",
    "fig, ax = plt.subplots(figsize=(10, 6))\n",
    "bars = ax.bar(daily_income.index, daily_income.values, color=colors, edgecolor=\"white\", linewidth=1.5)\n",
    "\n",
    "# Başlık ve etiketler\n",
    "ax.set_title(\"Total Income by Day of the Week\", fontsize=16, weight=\"bold\")\n",
    "ax.set_xlabel(\"Week Day\", fontsize=12)\n",
    "ax.set_ylabel(\"Total Line\", fontsize=12)\n",
    "ax.grid(axis='y', linestyle='--', alpha=0.7)\n",
    "\n",
    "# Değer etiketlerini ekleme\n",
    "for bar in bars:\n",
    "    height = bar.get_height()\n",
    "    ax.text(bar.get_x() + bar.get_width()/2., 1.01 * height, \n",
    "            f'${int(height):,}', \n",
    "            ha='center', va='bottom', fontsize=10, weight=\"bold\")\n",
    "\n",
    "# Y eksenini sıfırdan başlatmak\n",
    "ax.set_ylim(bottom=0)\n",
    "\n",
    "plt.xticks(rotation=45, ha=\"right\")\n",
    "plt.tight_layout()\n",
    "plt.show()\n",
    "\n",
    "display(daily_income)"
   ]
  },
  {
   "cell_type": "markdown",
   "metadata": {},
   "source": [
    "This bar chart visualizes the total income by day. Sunday stands out as the highest-earning day with 3,347 in sales. Following a strong start on Monday (2,879), sales dip on Tuesday ($2,443) before steadily increasing and peaking on Thursday (3,096). Sales then decrease on Friday and Saturday, before the significant spike on Sunday. Overall, the weekend, especially Sunday, generates the most income."
   ]
  },
  {
   "cell_type": "markdown",
   "metadata": {},
   "source": [
    "<h2 style=\" color:#2a6040; padding:10px; border-radius:6px; font-family:sans-serif;\">\n",
    "4) Month Income\n",
    "</h2>"
   ]
  },
  {
   "cell_type": "code",
   "execution_count": null,
   "metadata": {},
   "outputs": [],
   "source": [
    "# Ayları sıralı hale getirmek için doğru sıralama listesini oluşturun\n",
    "month_order = [\n",
    "    \"Jan\", \"Feb\", \"Mar\", \"Apr\", \"May\", \"Jun\", \n",
    "    \"Jul\", \"Aug\", \"Sep\", \"Oct\", \"Nov\", \"Dec\"\n",
    "]\n",
    "\n",
    "# Aylık geliri doğru sıralama ile gruplandırın\n",
    "monthly_income = df.groupby(\"month_name\")[\"line_total\"].sum().reindex(month_order)\n",
    "monthly_income.fillna(0, inplace=True)\n",
    "# Grafiği oluşturun\n",
    "plt.figure(figsize=(12, 7))\n",
    "plt.plot(\n",
    "    monthly_income.index,\n",
    "    monthly_income.values,\n",
    "    marker=\"o\",  \n",
    "    linestyle=\"-\",\n",
    "    linewidth=3,\n",
    "    color=\"#2a6040\" \n",
    ")\n",
    "\n",
    "# Başlıklar ve etiketler\n",
    "plt.title(\"Monthly Sales Trend\", fontsize=18, weight=\"bold\")\n",
    "plt.xlabel(\"Ay\", fontsize=14)\n",
    "plt.ylabel(\"Total Income ($)\", fontsize=14)\n",
    "plt.grid(True, linestyle=\"--\", alpha=0.6)\n",
    "\n",
    "# Her bir ay için gelir değerini üzerine yazın\n",
    "for x, y in zip(monthly_income.index, monthly_income.values):\n",
    "    plt.text(x, y + 100, f'${int(y):,}', ha=\"center\", va=\"bottom\", fontsize=10, weight=\"bold\")\n",
    "\n",
    "# Y eksenini sıfırdan başlatın\n",
    "plt.ylim(bottom=0)\n",
    "\n",
    "plt.xticks(rotation=45, ha=\"right\")\n",
    "plt.tight_layout()\n",
    "plt.show()\n",
    "\n",
    "display(monthly_income)"
   ]
  },
  {
   "cell_type": "markdown",
   "metadata": {},
   "source": [
    "Sales show a general increase from January (2,013) to a peak in March (3,237). After a slight dip in April, sales stabilize until they reach a new, but smaller, peak in July (3,313). A dramatic drop occurs in August ($1,056), followed by sales plummeting to zero for the rest of the year, from September to December."
   ]
  },
  {
   "cell_type": "markdown",
   "metadata": {},
   "source": [
    "<h2 style=\" color:#2a6040; padding:10px; border-radius:6px; font-family:sans-serif;\">\n",
    "5) Top Customers by Quantity Purchased\n",
    "</h2>"
   ]
  },
  {
   "cell_type": "code",
   "execution_count": null,
   "metadata": {},
   "outputs": [],
   "source": [
    "customer = df.groupby(\"Customer Name\")[\"Quantity\"].sum()\n",
    "customer = customer.sort_values(ascending=False).head(20)\n",
    "\n",
    "plt.figure(figsize=(12, 8))  # Boyutu genişlet\n",
    "bars = plt.barh(customer.index, customer.values, color=\"#75a969\")\n",
    "plt.title(\"Top 20 Customer Orders\", fontsize=18)\n",
    "plt.xlabel(\"Quantity\", fontsize=14)\n",
    "plt.ylabel(\"Customer Name\", fontsize=14)\n",
    "plt.gca().invert_yaxis()  # En yüksek değer yukarıda olsun\n",
    "\n",
    "# Çubuk üzerine değerleri yaz\n",
    "for bar in bars:\n",
    "    width = bar.get_width()\n",
    "    plt.text(width + max(customer.values)*0.01, bar.get_y() + bar.get_height()/2, f\"{width:.0f}\", \n",
    "             va='center', fontsize=12)\n",
    "\n",
    "plt.tight_layout()\n",
    "plt.show()\n"
   ]
  },
  {
   "cell_type": "markdown",
   "metadata": {},
   "source": [
    "It shows the top 20 customers with the most orders. According to the chart, Jonathan Turner is the customer with the highest number of orders at 8, followed by Michael Smith with 7 orders. Most of the remaining customers have a similar number of orders, around 5 each, indicating an equality in order quantity among these customers."
   ]
  },
  {
   "cell_type": "markdown",
   "metadata": {},
   "source": [
    "<h2 style=\" color:#2a6040; padding:10px; border-radius:6px; font-family:sans-serif;\">\n",
    "6) Top Customers by Total Order Value\n",
    "</h2>"
   ]
  },
  {
   "cell_type": "code",
   "execution_count": null,
   "metadata": {},
   "outputs": [],
   "source": [
    "import seaborn as sns\n",
    "\n",
    "plt.figure(figsize=(12, 8))\n",
    "sns.barplot(x=customers.values, y=customers.index, palette=\"Greens_d\")\n",
    "plt.title(\"Top Customers by Total Order Value\", fontsize=18)\n",
    "plt.xlabel(\"Total Order Value\", fontsize=14)\n",
    "plt.ylabel(\"Customer Name\", fontsize=14)\n",
    "plt.show()\n"
   ]
  },
  {
   "cell_type": "markdown",
   "metadata": {},
   "source": [
    "The chart displays the customers who spent the most based on total order value. At the top of the chart, Christopher Dunlap, Sara Graham, and Ashley Davis are the highest-spending customers, with an order value of around 120 units. Overall, spending amounts among the top 20 customers are relatively close, but the customers at the top of the chart have slightly higher order values compared to those at the bottom."
   ]
  },
  {
   "cell_type": "markdown",
   "metadata": {},
   "source": [
    "<h2 style=\" color:#2a6040; padding:10px; border-radius:6px; font-family:sans-serif;\">\n",
    "7) Payment Method\n",
    "</h2>"
   ]
  },
  {
   "cell_type": "code",
   "execution_count": null,
   "metadata": {},
   "outputs": [],
   "source": [
    "payment=df[\"Payment Method\"].value_counts()\n",
    "\n",
    "colors = [\n",
    "    \"#eae5c9\",\n",
    "    \"#9bce7d\",\n",
    "    \"#75a969\",\n",
    "    \"#508554\",\n",
    "]\n",
    "\n",
    "plt.figure(figsize=(8,8))\n",
    "plt.pie(payment,labels=payment.index,colors=colors,autopct=\"%1.1f%%\")\n",
    "plt.title(\"Payment Method\")\n",
    "plt.show()"
   ]
  },
  {
   "cell_type": "markdown",
   "metadata": {},
   "source": [
    "This pie chart shows the distribution of sales by payment method. The data reveals a very balanced distribution among the four methods, with none of them being significantly more or less preferred than the others. Cash is the most common payment method at 26.4%, followed closely by Credit Card (25.6%), Online Payment (24.2%), and Debit Card (23.8%). The small differences in percentages suggest that customers are comfortable using a variety of payment options."
   ]
  },
  {
   "cell_type": "code",
   "execution_count": 3,
   "metadata": {},
   "outputs": [
    {
     "ename": "NameError",
     "evalue": "name 'orders_pivot' is not defined",
     "output_type": "error",
     "traceback": [
      "\u001b[31m---------------------------------------------------------------------------\u001b[39m",
      "\u001b[31mNameError\u001b[39m                                 Traceback (most recent call last)",
      "\u001b[36mCell\u001b[39m\u001b[36m \u001b[39m\u001b[32mIn[3]\u001b[39m\u001b[32m, line 15\u001b[39m\n\u001b[32m      1\u001b[39m colors = [\n\u001b[32m      2\u001b[39m     \u001b[33m\"\u001b[39m\u001b[33m#eae5c9\u001b[39m\u001b[33m\"\u001b[39m,\n\u001b[32m      3\u001b[39m     \u001b[33m\"\u001b[39m\u001b[33m#2a6040\u001b[39m\u001b[33m\"\u001b[39m,\n\u001b[32m   (...)\u001b[39m\u001b[32m     12\u001b[39m \n\u001b[32m     13\u001b[39m ]\n\u001b[32m---> \u001b[39m\u001b[32m15\u001b[39m ax = \u001b[43morders_pivot\u001b[49m.plot(\n\u001b[32m     16\u001b[39m     kind=\u001b[33m\"\u001b[39m\u001b[33mbar\u001b[39m\u001b[33m\"\u001b[39m,\n\u001b[32m     17\u001b[39m     stacked=\u001b[38;5;28;01mTrue\u001b[39;00m,\n\u001b[32m     18\u001b[39m     figsize=(\u001b[32m12\u001b[39m, \u001b[32m7\u001b[39m),\n\u001b[32m     19\u001b[39m     color=colors,  \n\u001b[32m     20\u001b[39m     edgecolor=\u001b[33m\"\u001b[39m\u001b[33mwhite\u001b[39m\u001b[33m\"\u001b[39m,\n\u001b[32m     21\u001b[39m     linewidth=\u001b[32m1.2\u001b[39m\n\u001b[32m     22\u001b[39m )\n\u001b[32m     24\u001b[39m plt.title(\u001b[33m\"\u001b[39m\u001b[33mDistribution of Food Categories by Weekday (\u001b[39m\u001b[33m%\u001b[39m\u001b[33m)\u001b[39m\u001b[33m\"\u001b[39m, fontsize=\u001b[32m16\u001b[39m, weight=\u001b[33m\"\u001b[39m\u001b[33mbold\u001b[39m\u001b[33m\"\u001b[39m)\n\u001b[32m     25\u001b[39m plt.xlabel(\u001b[33m\"\u001b[39m\u001b[33mWeekday\u001b[39m\u001b[33m\"\u001b[39m, fontsize=\u001b[32m12\u001b[39m)\n",
      "\u001b[31mNameError\u001b[39m: name 'orders_pivot' is not defined"
     ]
    }
   ],
   "source": [
    "colors = [\n",
    "    \"#eae5c9\",\n",
    "    \"#2a6040\",\n",
    "    \"#cbddca\",\n",
    "    \"#abd6ca\",\n",
    "    \"#508554\",\n",
    "    \"#8ccecb\",\n",
    "    \"#6ccc6b\",\n",
    "    \"#c0f291\",\n",
    "    \"#9bce7d\",\n",
    "    \"#75a969\"  \n",
    "   \n",
    "]\n",
    "\n",
    "ax = orders_pivot.plot(\n",
    "    kind=\"bar\",\n",
    "    stacked=True,\n",
    "    figsize=(12, 7),\n",
    "    color=colors,  \n",
    "    edgecolor=\"white\",\n",
    "    linewidth=1.2\n",
    ")\n",
    "\n",
    "plt.title(\"Distribution of Food Categories by Weekday (%)\", fontsize=16, weight=\"bold\")\n",
    "plt.xlabel(\"Weekday\", fontsize=12)\n",
    "plt.ylabel(\"Percentage (%)\", fontsize=12)\n",
    "plt.xticks(rotation=45, ha=\"right\")\n",
    "plt.legend(title=\"Food Category\", bbox_to_anchor=(1.05, 1), loc=\"upper left\")\n",
    "plt.tight_layout()\n",
    "plt.show()\n"
   ]
  },
  {
   "cell_type": "markdown",
   "metadata": {},
   "source": [
    "This stacked bar chart shows the percentage distribution of food categories sold each day of the week. The distribution is remarkably consistent across all seven days. The chart indicates that customers have a stable preference for different food categories regardless of the day.\n",
    "\n",
    "For example, Pasta, Soup, Pizza, and Salad maintain a relatively constant share of sales throughout the week. There is no single food category that experiences a major spike or drop on a particular day, suggesting that demand is not heavily influenced by the weekday. This stability could indicate a predictable and reliable customer base."
   ]
  },
  {
   "cell_type": "markdown",
   "metadata": {},
   "source": [
    "<h2 style=\"\n",
    "    background-color:#cbddca; \n",
    "    color:#1b3d20; \n",
    "    padding:15px 20px; \n",
    "    border-radius:8px; \n",
    "    font-family:sans-serif; \n",
    "    font-size:32px; \n",
    "    font-weight:bold;\n",
    "    text-align:center;\n",
    "    box-shadow: 2px 2px 8px rgba(0,0,0,0.2);\n",
    "\">\n",
    "🌟 GENEL DEĞERLENDİRME 🌟\n",
    "</h2>\n"
   ]
  },
  {
   "cell_type": "markdown",
   "metadata": {},
   "source": [
    "\n",
    "> [English]\n",
    "> \n",
    "> Based on the provided charts, the business demonstrates a stable and well-balanced performance, with sales distributed fairly evenly across the Main, Dessert, and Starter categories, as well as among different payment methods. This indicates a diverse menu appeal and suggests that no single category or payment type dominates the overall revenue, which is a positive sign of operational balance.Sales follow a clear weekly pattern, with notable peaks on Sunday and Thursday, suggesting that these days attract higher customer traffic or larger order volumes. This pattern could be leveraged for targeted promotions, special offers, or staffing adjustments to optimize service efficiency on peak days. However, a more concerning observation is the significant decline in sales after August, which could be due to seasonal factors, market changes, or operational issues. This trend warrants immediate attention and a thorough investigation to identify potential causes and implement corrective measures.Customer analysis reveals a small group of high-value clients who either place orders frequently or spend significantly more than average. These customers represent a strategic opportunity for targeted marketing campaigns, personalized promotions, and loyalty programs aimed at increasing retention and maximizing lifetime value. Overall, while the general performance of the business is stable, these insights highlight areas for proactive management, strategic planning, and growth-focused interventions.\n",
    "> \n",
    "> \n",
    "> [Türkçe]\n",
    "> \n",
    "> Sunulan grafiklere göre, işletme genel olarak istikrarlı ve dengeli bir performans sergilemektedir; satışlar Ana Yemek, Tatlı ve Başlangıç kategorileri ile farklı ödeme yöntemleri arasında oldukça eşit bir şekilde dağılmıştır. Bu durum, menünün farklı müşteri segmentlerine hitap ettiğini ve hiçbir kategori veya ödeme yönteminin gelir üzerinde tek başına baskın olmadığını göstermektedir; bu da operasyonel denge açısından olumlu bir işarettir.Satışlar, özellikle Pazar ve Perşembe günleri zirve yaparak haftalık belirgin bir düzen izlemektedir. Bu, söz konusu günlerde müşteri yoğunluğunun veya sipariş hacminin arttığını göstermektedir. İşletme, bu durumu hedeflenmiş promosyonlar, özel kampanyalar veya personel planlaması gibi stratejilerle değerlendirebilir ve hizmet verimliliğini artırabilir. Ancak, daha dikkat çekici bir gözlem, Ağustos ayından sonra satışlarda yaşanan önemli düşüşlerdir. Bu düşüş mevsimsel faktörler, pazar koşulları veya operasyonel sorunlardan kaynaklanabilir. Bu nedenle, sorunun kaynağını belirlemek ve uygun önlemleri almak için acil bir araştırma yapılması gerekmektedir.Müşteri analizine bakıldığında, sık sık sipariş veren veya yüksek harcama yapan birkaç değerli müşteri öne çıkmaktadır. Bu müşteriler, hedeflenmiş pazarlama kampanyaları, kişiselleştirilmiş promosyonlar ve sadakat programları gibi stratejilerle işletme için önemli fırsatlar yaratmaktadır; hem müşteri bağlılığı artırılabilir hem de yaşam boyu değerleri maksimize edilebilir. Genel olarak işletmenin performansı istikrarlı olsa da, bu analizler proaktif yönetim, stratejik planlama ve büyümeye odaklı müdahaleler için önemli içgörüler sunmaktadır.\n"
   ]
  }
 ],
 "metadata": {
  "kaggle": {
   "accelerator": "none",
   "dataSources": [
    {
     "datasetId": 8069641,
     "sourceId": 12765094,
     "sourceType": "datasetVersion"
    }
   ],
   "dockerImageVersionId": 31089,
   "isGpuEnabled": false,
   "isInternetEnabled": true,
   "language": "python",
   "sourceType": "notebook"
  },
  "kernelspec": {
   "display_name": "Python 3 (ipykernel)",
   "language": "python",
   "name": "python3"
  },
  "language_info": {
   "codemirror_mode": {
    "name": "ipython",
    "version": 3
   },
   "file_extension": ".py",
   "mimetype": "text/x-python",
   "name": "python",
   "nbconvert_exporter": "python",
   "pygments_lexer": "ipython3",
   "version": "3.12.10"
  }
 },
 "nbformat": 4,
 "nbformat_minor": 4
}
