{
 "cells": [
  {
   "cell_type": "markdown",
   "id": "8a6b22f9-d3fa-4584-abf6-5ad45b487180",
   "metadata": {},
   "source": [
    "## Statistics\n"
   ]
  },
  {
   "cell_type": "markdown",
   "id": "fc8aae96-f517-463c-a63f-2b0d07551373",
   "metadata": {},
   "source": [
    "### Basics of Statistics\n",
    "#### Descriptive Statistics\n",
    "- aims to describe an summarize a data set in a meaningful way\n",
    "- describe the collected data without drawing conclusions about a larger populuation\n",
    "##### Measures of Central Tendency\n",
    "- Mean: The avarage of the data = Sum of data / len of data\n",
    "- Median: The middle value of sorted data\n",
    "- Mode: The value that appear most frequently"
   ]
  },
  {
   "cell_type": "code",
   "execution_count": 6,
   "id": "fdd86285-4f43-44ba-b1d2-f5574cee741b",
   "metadata": {},
   "outputs": [
    {
     "name": "stdout",
     "output_type": "stream",
     "text": [
      "Mean:  34.666666666666664\n",
      "Median:  37.0\n"
     ]
    }
   ],
   "source": [
    "import math\n",
    "\n",
    "data = [3,76,43,12,31,43]\n",
    "\n",
    "def mean(arr):\n",
    "    sum = 0\n",
    "    for i in arr:\n",
    "        sum += i\n",
    "    return sum/len(arr)\n",
    "\n",
    "def median(arr):\n",
    "    arr.sort()\n",
    "    length = len(arr)\n",
    "    if length % 2 == 1:\n",
    "        return arr[math.floor(length/2)]\n",
    "    else:\n",
    "        return (arr[int(length / 2)] + arr[int(length / 2 - 1)]) / 2\n",
    "\n",
    "print('Mean: ', mean(data))\n",
    "print('Median: ', median(data))"
   ]
  },
  {
   "cell_type": "markdown",
   "id": "23794773-4891-43fb-af78-3482a126afb2",
   "metadata": {},
   "source": [
    "##### Measures of Dispersion \n",
    "- Describes how spread out the values in a data set are\n",
    "- Standart Deviation: Indicate the average distance beetween each data point and mean\n",
    "- Variance: The squared standart deviation = std_dev**2\n",
    "- Range: Difference between the max and min value\n",
    "- Interquartile Range: Represent the middle %50 of the data "
   ]
  },
  {
   "cell_type": "markdown",
   "id": "afc72941-35e4-4121-b355-0f4358dad2ab",
   "metadata": {},
   "source": [
    "### Inferential Statistics\n",
    "- Allows us to make a conclusion or inference about a population based on data from a sample\n",
    "#### Hypothesis\n",
    "- A statement we want to test\n",
    "#### Hypothesis Testing\n",
    "- A method for testing a claim about a parameter in a population using data measure in a sample "
   ]
  },
  {
   "cell_type": "markdown",
   "id": "66d26d6c-e3fc-430f-a324-8f5ad3a49cfe",
   "metadata": {},
   "source": [
    "#### Level of Measurement\n",
    "- Which hypothesis test you can use depends on the level of measurement of your data\n",
    "- **Types**\n",
    "  - Nominal: Data can be categorized. Not possible to rank the categories, bar charts\n",
    "  - Ordinal: Data can be categorized and categories can be ranked (Satisfaction : unsatisfied , neutral, satisfied)\n",
    "  - Metric Variables(Interval and Ratio): Like ordinal but interval between values are equally spaced.(Income, Weight)"
   ]
  },
  {
   "cell_type": "markdown",
   "id": "e7bbbb85-361f-4f36-8119-857aeb354522",
   "metadata": {},
   "source": [
    "#### T-Test\n",
    "- A statistical test procudure\n",
    "- T-Test analyzes whether there is a significant difference between the means of two groups\n",
    "##### One sample t-test\n",
    "- We use it when we want to compare the mean of a sample with a know reference\n",
    "- **Null Hypothesis**: The sample mean is equal to the reference value\n",
    "- **Alternative Hypothesis**: The sample mean is not equal the reference value\n",
    "##### Independent samples t-test\n",
    "- We use it for independent samples when we want to compare the means of two independent groups or samples\n",
    "- **Null Hypothesis**: The mean values in both groups are the same \n",
    "- **Alternative Hypothesis**: The mean values in both groups are not the same\n",
    "##### Paired samples t-test\n",
    "- We use it to compare the means of two dependent groups\n",
    "- Example : How effective diet is Before diet and After Diet looking at the difference in weight on same sample\n",
    "- **Null Hypothesis**: The mean of the difference between the pairs is zero \n",
    "- **Alternative Hypothesis**: The mean of the difference between the pairs is not zero\n",
    "##### Calculating T-Test\n",
    "- t-value = Difference between mean values / Standart deviation from the mean\n",
    "- if calculated T-value > Critical T-value = reject null hypothesis, accept otherwise"
   ]
  },
  {
   "cell_type": "code",
   "execution_count": null,
   "id": "0f64adc3-5253-415a-bfc6-80478a42918f",
   "metadata": {},
   "outputs": [],
   "source": []
  }
 ],
 "metadata": {
  "kernelspec": {
   "display_name": "Python 3 (ipykernel)",
   "language": "python",
   "name": "python3"
  },
  "language_info": {
   "codemirror_mode": {
    "name": "ipython",
    "version": 3
   },
   "file_extension": ".py",
   "mimetype": "text/x-python",
   "name": "python",
   "nbconvert_exporter": "python",
   "pygments_lexer": "ipython3",
   "version": "3.12.10"
  }
 },
 "nbformat": 4,
 "nbformat_minor": 5
}
