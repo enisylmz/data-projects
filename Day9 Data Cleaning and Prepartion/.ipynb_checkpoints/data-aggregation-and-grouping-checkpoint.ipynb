{
 "cells": [
  {
   "cell_type": "markdown",
   "id": "4376a867-655b-4c54-bc19-fe4883e7c507",
   "metadata": {},
   "source": [
    "## Data Aggregation and Grouping in Pandas"
   ]
  },
  {
   "cell_type": "code",
   "execution_count": 35,
   "id": "2ed30908-a238-4273-a959-a7561e43aa43",
   "metadata": {
    "scrolled": true
   },
   "outputs": [],
   "source": [
    "import pandas as pd\n",
    "data = pd.DataFrame({\n",
    "    'Class': ['A', 'B', 'B', 'C','C', 'D','A', 'B', 'C'],\n",
    "     'Age': [13, 13, 21, 21, 44, 78, 33, 31, 69],\n",
    "     'Score': [123, 98,45,54, 57, 154, 331,443, 110]}\n",
    ")\n",
    "dataMean = data.groupby('Class').mean() # group by  class \n",
    "##print(dataMean)\n",
    "##print(data)"
   ]
  },
  {
   "cell_type": "code",
   "execution_count": 36,
   "id": "0760ecce-6970-451e-a6e0-9ce297c3f422",
   "metadata": {},
   "outputs": [],
   "source": [
    "dataSum = data.groupby('Age').sum() #sum scores and \n",
    "# print(dataSum)  "
   ]
  },
  {
   "cell_type": "code",
   "execution_count": 37,
   "id": "bdf13762-e692-4b82-8cb7-491857bc42fc",
   "metadata": {},
   "outputs": [
    {
     "name": "stdout",
     "output_type": "stream",
     "text": [
      "            Score                  Age        \n",
      "             mean  max  min       mean max min\n",
      "Class                                         \n",
      "A      227.000000  331  123  23.000000  33  13\n",
      "B      195.333333  443   45  21.666667  31  13\n",
      "C       73.666667  110   54  44.666667  69  21\n",
      "D      154.000000  154  154  78.000000  78  78\n"
     ]
    }
   ],
   "source": [
    "data = data.groupby('Class').agg({\n",
    "    'Score': ['mean', 'max', 'min'],\n",
    "    'Age': ['mean', 'max', 'min']\n",
    "})\n",
    "print(data)"
   ]
  },
  {
   "cell_type": "code",
   "execution_count": null,
   "id": "b20c2810-76a5-46d9-a619-0cc71da0b045",
   "metadata": {},
   "outputs": [],
   "source": []
  }
 ],
 "metadata": {
  "kernelspec": {
   "display_name": "Python 3 (ipykernel)",
   "language": "python",
   "name": "python3"
  },
  "language_info": {
   "codemirror_mode": {
    "name": "ipython",
    "version": 3
   },
   "file_extension": ".py",
   "mimetype": "text/x-python",
   "name": "python",
   "nbconvert_exporter": "python",
   "pygments_lexer": "ipython3",
   "version": "3.12.10"
  }
 },
 "nbformat": 4,
 "nbformat_minor": 5
}
